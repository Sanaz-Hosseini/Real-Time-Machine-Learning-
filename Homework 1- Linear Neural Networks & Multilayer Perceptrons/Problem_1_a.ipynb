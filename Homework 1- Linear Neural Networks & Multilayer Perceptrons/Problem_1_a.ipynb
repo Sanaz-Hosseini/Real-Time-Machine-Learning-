{
  "nbformat": 4,
  "nbformat_minor": 0,
  "metadata": {
    "colab": {
      "provenance": []
    },
    "kernelspec": {
      "name": "python3",
      "display_name": "Python 3"
    },
    "language_info": {
      "name": "python"
    },
    "widgets": {
      "application/vnd.jupyter.widget-state+json": {
        "74f18b69ba074d239ddf5e80a37b86f7": {
          "model_module": "@jupyter-widgets/controls",
          "model_name": "HBoxModel",
          "model_module_version": "1.5.0",
          "state": {
            "_dom_classes": [],
            "_model_module": "@jupyter-widgets/controls",
            "_model_module_version": "1.5.0",
            "_model_name": "HBoxModel",
            "_view_count": null,
            "_view_module": "@jupyter-widgets/controls",
            "_view_module_version": "1.5.0",
            "_view_name": "HBoxView",
            "box_style": "",
            "children": [
              "IPY_MODEL_686c6e0f32c24ac4a2f7294a00c37764",
              "IPY_MODEL_3686784c058d4dbfbafb2b8462a563ad",
              "IPY_MODEL_dd416724069f4b80972f9aa4237ff9d2"
            ],
            "layout": "IPY_MODEL_1b261d9a181b46a99b8ed3180bdc2ae4"
          }
        },
        "686c6e0f32c24ac4a2f7294a00c37764": {
          "model_module": "@jupyter-widgets/controls",
          "model_name": "HTMLModel",
          "model_module_version": "1.5.0",
          "state": {
            "_dom_classes": [],
            "_model_module": "@jupyter-widgets/controls",
            "_model_module_version": "1.5.0",
            "_model_name": "HTMLModel",
            "_view_count": null,
            "_view_module": "@jupyter-widgets/controls",
            "_view_module_version": "1.5.0",
            "_view_name": "HTMLView",
            "description": "",
            "description_tooltip": null,
            "layout": "IPY_MODEL_ea0858224db04f31b4ef9571e4ea153e",
            "placeholder": "​",
            "style": "IPY_MODEL_53c5cc7163394ee8ac216ba5a60097a7",
            "value": "100%"
          }
        },
        "3686784c058d4dbfbafb2b8462a563ad": {
          "model_module": "@jupyter-widgets/controls",
          "model_name": "FloatProgressModel",
          "model_module_version": "1.5.0",
          "state": {
            "_dom_classes": [],
            "_model_module": "@jupyter-widgets/controls",
            "_model_module_version": "1.5.0",
            "_model_name": "FloatProgressModel",
            "_view_count": null,
            "_view_module": "@jupyter-widgets/controls",
            "_view_module_version": "1.5.0",
            "_view_name": "ProgressView",
            "bar_style": "success",
            "description": "",
            "description_tooltip": null,
            "layout": "IPY_MODEL_1c8c642957004882a2e033541cf6c212",
            "max": 26421880,
            "min": 0,
            "orientation": "horizontal",
            "style": "IPY_MODEL_fdfbcbf901aa4e98b4494a00f40d480a",
            "value": 26421880
          }
        },
        "dd416724069f4b80972f9aa4237ff9d2": {
          "model_module": "@jupyter-widgets/controls",
          "model_name": "HTMLModel",
          "model_module_version": "1.5.0",
          "state": {
            "_dom_classes": [],
            "_model_module": "@jupyter-widgets/controls",
            "_model_module_version": "1.5.0",
            "_model_name": "HTMLModel",
            "_view_count": null,
            "_view_module": "@jupyter-widgets/controls",
            "_view_module_version": "1.5.0",
            "_view_name": "HTMLView",
            "description": "",
            "description_tooltip": null,
            "layout": "IPY_MODEL_7c0ba9374f6b44c2b190ffb5ae11e591",
            "placeholder": "​",
            "style": "IPY_MODEL_9047339424b34ae182de9d8cecdcc7a5",
            "value": " 26421880/26421880 [00:00&lt;00:00, 55982795.28it/s]"
          }
        },
        "1b261d9a181b46a99b8ed3180bdc2ae4": {
          "model_module": "@jupyter-widgets/base",
          "model_name": "LayoutModel",
          "model_module_version": "1.2.0",
          "state": {
            "_model_module": "@jupyter-widgets/base",
            "_model_module_version": "1.2.0",
            "_model_name": "LayoutModel",
            "_view_count": null,
            "_view_module": "@jupyter-widgets/base",
            "_view_module_version": "1.2.0",
            "_view_name": "LayoutView",
            "align_content": null,
            "align_items": null,
            "align_self": null,
            "border": null,
            "bottom": null,
            "display": null,
            "flex": null,
            "flex_flow": null,
            "grid_area": null,
            "grid_auto_columns": null,
            "grid_auto_flow": null,
            "grid_auto_rows": null,
            "grid_column": null,
            "grid_gap": null,
            "grid_row": null,
            "grid_template_areas": null,
            "grid_template_columns": null,
            "grid_template_rows": null,
            "height": null,
            "justify_content": null,
            "justify_items": null,
            "left": null,
            "margin": null,
            "max_height": null,
            "max_width": null,
            "min_height": null,
            "min_width": null,
            "object_fit": null,
            "object_position": null,
            "order": null,
            "overflow": null,
            "overflow_x": null,
            "overflow_y": null,
            "padding": null,
            "right": null,
            "top": null,
            "visibility": null,
            "width": null
          }
        },
        "ea0858224db04f31b4ef9571e4ea153e": {
          "model_module": "@jupyter-widgets/base",
          "model_name": "LayoutModel",
          "model_module_version": "1.2.0",
          "state": {
            "_model_module": "@jupyter-widgets/base",
            "_model_module_version": "1.2.0",
            "_model_name": "LayoutModel",
            "_view_count": null,
            "_view_module": "@jupyter-widgets/base",
            "_view_module_version": "1.2.0",
            "_view_name": "LayoutView",
            "align_content": null,
            "align_items": null,
            "align_self": null,
            "border": null,
            "bottom": null,
            "display": null,
            "flex": null,
            "flex_flow": null,
            "grid_area": null,
            "grid_auto_columns": null,
            "grid_auto_flow": null,
            "grid_auto_rows": null,
            "grid_column": null,
            "grid_gap": null,
            "grid_row": null,
            "grid_template_areas": null,
            "grid_template_columns": null,
            "grid_template_rows": null,
            "height": null,
            "justify_content": null,
            "justify_items": null,
            "left": null,
            "margin": null,
            "max_height": null,
            "max_width": null,
            "min_height": null,
            "min_width": null,
            "object_fit": null,
            "object_position": null,
            "order": null,
            "overflow": null,
            "overflow_x": null,
            "overflow_y": null,
            "padding": null,
            "right": null,
            "top": null,
            "visibility": null,
            "width": null
          }
        },
        "53c5cc7163394ee8ac216ba5a60097a7": {
          "model_module": "@jupyter-widgets/controls",
          "model_name": "DescriptionStyleModel",
          "model_module_version": "1.5.0",
          "state": {
            "_model_module": "@jupyter-widgets/controls",
            "_model_module_version": "1.5.0",
            "_model_name": "DescriptionStyleModel",
            "_view_count": null,
            "_view_module": "@jupyter-widgets/base",
            "_view_module_version": "1.2.0",
            "_view_name": "StyleView",
            "description_width": ""
          }
        },
        "1c8c642957004882a2e033541cf6c212": {
          "model_module": "@jupyter-widgets/base",
          "model_name": "LayoutModel",
          "model_module_version": "1.2.0",
          "state": {
            "_model_module": "@jupyter-widgets/base",
            "_model_module_version": "1.2.0",
            "_model_name": "LayoutModel",
            "_view_count": null,
            "_view_module": "@jupyter-widgets/base",
            "_view_module_version": "1.2.0",
            "_view_name": "LayoutView",
            "align_content": null,
            "align_items": null,
            "align_self": null,
            "border": null,
            "bottom": null,
            "display": null,
            "flex": null,
            "flex_flow": null,
            "grid_area": null,
            "grid_auto_columns": null,
            "grid_auto_flow": null,
            "grid_auto_rows": null,
            "grid_column": null,
            "grid_gap": null,
            "grid_row": null,
            "grid_template_areas": null,
            "grid_template_columns": null,
            "grid_template_rows": null,
            "height": null,
            "justify_content": null,
            "justify_items": null,
            "left": null,
            "margin": null,
            "max_height": null,
            "max_width": null,
            "min_height": null,
            "min_width": null,
            "object_fit": null,
            "object_position": null,
            "order": null,
            "overflow": null,
            "overflow_x": null,
            "overflow_y": null,
            "padding": null,
            "right": null,
            "top": null,
            "visibility": null,
            "width": null
          }
        },
        "fdfbcbf901aa4e98b4494a00f40d480a": {
          "model_module": "@jupyter-widgets/controls",
          "model_name": "ProgressStyleModel",
          "model_module_version": "1.5.0",
          "state": {
            "_model_module": "@jupyter-widgets/controls",
            "_model_module_version": "1.5.0",
            "_model_name": "ProgressStyleModel",
            "_view_count": null,
            "_view_module": "@jupyter-widgets/base",
            "_view_module_version": "1.2.0",
            "_view_name": "StyleView",
            "bar_color": null,
            "description_width": ""
          }
        },
        "7c0ba9374f6b44c2b190ffb5ae11e591": {
          "model_module": "@jupyter-widgets/base",
          "model_name": "LayoutModel",
          "model_module_version": "1.2.0",
          "state": {
            "_model_module": "@jupyter-widgets/base",
            "_model_module_version": "1.2.0",
            "_model_name": "LayoutModel",
            "_view_count": null,
            "_view_module": "@jupyter-widgets/base",
            "_view_module_version": "1.2.0",
            "_view_name": "LayoutView",
            "align_content": null,
            "align_items": null,
            "align_self": null,
            "border": null,
            "bottom": null,
            "display": null,
            "flex": null,
            "flex_flow": null,
            "grid_area": null,
            "grid_auto_columns": null,
            "grid_auto_flow": null,
            "grid_auto_rows": null,
            "grid_column": null,
            "grid_gap": null,
            "grid_row": null,
            "grid_template_areas": null,
            "grid_template_columns": null,
            "grid_template_rows": null,
            "height": null,
            "justify_content": null,
            "justify_items": null,
            "left": null,
            "margin": null,
            "max_height": null,
            "max_width": null,
            "min_height": null,
            "min_width": null,
            "object_fit": null,
            "object_position": null,
            "order": null,
            "overflow": null,
            "overflow_x": null,
            "overflow_y": null,
            "padding": null,
            "right": null,
            "top": null,
            "visibility": null,
            "width": null
          }
        },
        "9047339424b34ae182de9d8cecdcc7a5": {
          "model_module": "@jupyter-widgets/controls",
          "model_name": "DescriptionStyleModel",
          "model_module_version": "1.5.0",
          "state": {
            "_model_module": "@jupyter-widgets/controls",
            "_model_module_version": "1.5.0",
            "_model_name": "DescriptionStyleModel",
            "_view_count": null,
            "_view_module": "@jupyter-widgets/base",
            "_view_module_version": "1.2.0",
            "_view_name": "StyleView",
            "description_width": ""
          }
        },
        "706b3ce6b45143deba9330bcb782200a": {
          "model_module": "@jupyter-widgets/controls",
          "model_name": "HBoxModel",
          "model_module_version": "1.5.0",
          "state": {
            "_dom_classes": [],
            "_model_module": "@jupyter-widgets/controls",
            "_model_module_version": "1.5.0",
            "_model_name": "HBoxModel",
            "_view_count": null,
            "_view_module": "@jupyter-widgets/controls",
            "_view_module_version": "1.5.0",
            "_view_name": "HBoxView",
            "box_style": "",
            "children": [
              "IPY_MODEL_8263e9d264af49339f2522a0352866ab",
              "IPY_MODEL_bf129930c22440ba99c8419edb45a9a9",
              "IPY_MODEL_0e2b84f7fefb4f1d8de0663b6404c4b4"
            ],
            "layout": "IPY_MODEL_2ac13ea4597240199f8c24d229c0f20c"
          }
        },
        "8263e9d264af49339f2522a0352866ab": {
          "model_module": "@jupyter-widgets/controls",
          "model_name": "HTMLModel",
          "model_module_version": "1.5.0",
          "state": {
            "_dom_classes": [],
            "_model_module": "@jupyter-widgets/controls",
            "_model_module_version": "1.5.0",
            "_model_name": "HTMLModel",
            "_view_count": null,
            "_view_module": "@jupyter-widgets/controls",
            "_view_module_version": "1.5.0",
            "_view_name": "HTMLView",
            "description": "",
            "description_tooltip": null,
            "layout": "IPY_MODEL_ccdc82724d0c44d08a1b72270efe5704",
            "placeholder": "​",
            "style": "IPY_MODEL_448b0e38a1ff4f1299cf12909effe768",
            "value": "100%"
          }
        },
        "bf129930c22440ba99c8419edb45a9a9": {
          "model_module": "@jupyter-widgets/controls",
          "model_name": "FloatProgressModel",
          "model_module_version": "1.5.0",
          "state": {
            "_dom_classes": [],
            "_model_module": "@jupyter-widgets/controls",
            "_model_module_version": "1.5.0",
            "_model_name": "FloatProgressModel",
            "_view_count": null,
            "_view_module": "@jupyter-widgets/controls",
            "_view_module_version": "1.5.0",
            "_view_name": "ProgressView",
            "bar_style": "success",
            "description": "",
            "description_tooltip": null,
            "layout": "IPY_MODEL_d669327afe9440a088e5e5586bc3d7c4",
            "max": 29515,
            "min": 0,
            "orientation": "horizontal",
            "style": "IPY_MODEL_9397e531eb3f42aaaed7a2cd8d466945",
            "value": 29515
          }
        },
        "0e2b84f7fefb4f1d8de0663b6404c4b4": {
          "model_module": "@jupyter-widgets/controls",
          "model_name": "HTMLModel",
          "model_module_version": "1.5.0",
          "state": {
            "_dom_classes": [],
            "_model_module": "@jupyter-widgets/controls",
            "_model_module_version": "1.5.0",
            "_model_name": "HTMLModel",
            "_view_count": null,
            "_view_module": "@jupyter-widgets/controls",
            "_view_module_version": "1.5.0",
            "_view_name": "HTMLView",
            "description": "",
            "description_tooltip": null,
            "layout": "IPY_MODEL_e0f45be92568480ab6b5921018116f26",
            "placeholder": "​",
            "style": "IPY_MODEL_9cf218c86a8149f1b2b29a6dff2e1de3",
            "value": " 29515/29515 [00:00&lt;00:00, 657713.75it/s]"
          }
        },
        "2ac13ea4597240199f8c24d229c0f20c": {
          "model_module": "@jupyter-widgets/base",
          "model_name": "LayoutModel",
          "model_module_version": "1.2.0",
          "state": {
            "_model_module": "@jupyter-widgets/base",
            "_model_module_version": "1.2.0",
            "_model_name": "LayoutModel",
            "_view_count": null,
            "_view_module": "@jupyter-widgets/base",
            "_view_module_version": "1.2.0",
            "_view_name": "LayoutView",
            "align_content": null,
            "align_items": null,
            "align_self": null,
            "border": null,
            "bottom": null,
            "display": null,
            "flex": null,
            "flex_flow": null,
            "grid_area": null,
            "grid_auto_columns": null,
            "grid_auto_flow": null,
            "grid_auto_rows": null,
            "grid_column": null,
            "grid_gap": null,
            "grid_row": null,
            "grid_template_areas": null,
            "grid_template_columns": null,
            "grid_template_rows": null,
            "height": null,
            "justify_content": null,
            "justify_items": null,
            "left": null,
            "margin": null,
            "max_height": null,
            "max_width": null,
            "min_height": null,
            "min_width": null,
            "object_fit": null,
            "object_position": null,
            "order": null,
            "overflow": null,
            "overflow_x": null,
            "overflow_y": null,
            "padding": null,
            "right": null,
            "top": null,
            "visibility": null,
            "width": null
          }
        },
        "ccdc82724d0c44d08a1b72270efe5704": {
          "model_module": "@jupyter-widgets/base",
          "model_name": "LayoutModel",
          "model_module_version": "1.2.0",
          "state": {
            "_model_module": "@jupyter-widgets/base",
            "_model_module_version": "1.2.0",
            "_model_name": "LayoutModel",
            "_view_count": null,
            "_view_module": "@jupyter-widgets/base",
            "_view_module_version": "1.2.0",
            "_view_name": "LayoutView",
            "align_content": null,
            "align_items": null,
            "align_self": null,
            "border": null,
            "bottom": null,
            "display": null,
            "flex": null,
            "flex_flow": null,
            "grid_area": null,
            "grid_auto_columns": null,
            "grid_auto_flow": null,
            "grid_auto_rows": null,
            "grid_column": null,
            "grid_gap": null,
            "grid_row": null,
            "grid_template_areas": null,
            "grid_template_columns": null,
            "grid_template_rows": null,
            "height": null,
            "justify_content": null,
            "justify_items": null,
            "left": null,
            "margin": null,
            "max_height": null,
            "max_width": null,
            "min_height": null,
            "min_width": null,
            "object_fit": null,
            "object_position": null,
            "order": null,
            "overflow": null,
            "overflow_x": null,
            "overflow_y": null,
            "padding": null,
            "right": null,
            "top": null,
            "visibility": null,
            "width": null
          }
        },
        "448b0e38a1ff4f1299cf12909effe768": {
          "model_module": "@jupyter-widgets/controls",
          "model_name": "DescriptionStyleModel",
          "model_module_version": "1.5.0",
          "state": {
            "_model_module": "@jupyter-widgets/controls",
            "_model_module_version": "1.5.0",
            "_model_name": "DescriptionStyleModel",
            "_view_count": null,
            "_view_module": "@jupyter-widgets/base",
            "_view_module_version": "1.2.0",
            "_view_name": "StyleView",
            "description_width": ""
          }
        },
        "d669327afe9440a088e5e5586bc3d7c4": {
          "model_module": "@jupyter-widgets/base",
          "model_name": "LayoutModel",
          "model_module_version": "1.2.0",
          "state": {
            "_model_module": "@jupyter-widgets/base",
            "_model_module_version": "1.2.0",
            "_model_name": "LayoutModel",
            "_view_count": null,
            "_view_module": "@jupyter-widgets/base",
            "_view_module_version": "1.2.0",
            "_view_name": "LayoutView",
            "align_content": null,
            "align_items": null,
            "align_self": null,
            "border": null,
            "bottom": null,
            "display": null,
            "flex": null,
            "flex_flow": null,
            "grid_area": null,
            "grid_auto_columns": null,
            "grid_auto_flow": null,
            "grid_auto_rows": null,
            "grid_column": null,
            "grid_gap": null,
            "grid_row": null,
            "grid_template_areas": null,
            "grid_template_columns": null,
            "grid_template_rows": null,
            "height": null,
            "justify_content": null,
            "justify_items": null,
            "left": null,
            "margin": null,
            "max_height": null,
            "max_width": null,
            "min_height": null,
            "min_width": null,
            "object_fit": null,
            "object_position": null,
            "order": null,
            "overflow": null,
            "overflow_x": null,
            "overflow_y": null,
            "padding": null,
            "right": null,
            "top": null,
            "visibility": null,
            "width": null
          }
        },
        "9397e531eb3f42aaaed7a2cd8d466945": {
          "model_module": "@jupyter-widgets/controls",
          "model_name": "ProgressStyleModel",
          "model_module_version": "1.5.0",
          "state": {
            "_model_module": "@jupyter-widgets/controls",
            "_model_module_version": "1.5.0",
            "_model_name": "ProgressStyleModel",
            "_view_count": null,
            "_view_module": "@jupyter-widgets/base",
            "_view_module_version": "1.2.0",
            "_view_name": "StyleView",
            "bar_color": null,
            "description_width": ""
          }
        },
        "e0f45be92568480ab6b5921018116f26": {
          "model_module": "@jupyter-widgets/base",
          "model_name": "LayoutModel",
          "model_module_version": "1.2.0",
          "state": {
            "_model_module": "@jupyter-widgets/base",
            "_model_module_version": "1.2.0",
            "_model_name": "LayoutModel",
            "_view_count": null,
            "_view_module": "@jupyter-widgets/base",
            "_view_module_version": "1.2.0",
            "_view_name": "LayoutView",
            "align_content": null,
            "align_items": null,
            "align_self": null,
            "border": null,
            "bottom": null,
            "display": null,
            "flex": null,
            "flex_flow": null,
            "grid_area": null,
            "grid_auto_columns": null,
            "grid_auto_flow": null,
            "grid_auto_rows": null,
            "grid_column": null,
            "grid_gap": null,
            "grid_row": null,
            "grid_template_areas": null,
            "grid_template_columns": null,
            "grid_template_rows": null,
            "height": null,
            "justify_content": null,
            "justify_items": null,
            "left": null,
            "margin": null,
            "max_height": null,
            "max_width": null,
            "min_height": null,
            "min_width": null,
            "object_fit": null,
            "object_position": null,
            "order": null,
            "overflow": null,
            "overflow_x": null,
            "overflow_y": null,
            "padding": null,
            "right": null,
            "top": null,
            "visibility": null,
            "width": null
          }
        },
        "9cf218c86a8149f1b2b29a6dff2e1de3": {
          "model_module": "@jupyter-widgets/controls",
          "model_name": "DescriptionStyleModel",
          "model_module_version": "1.5.0",
          "state": {
            "_model_module": "@jupyter-widgets/controls",
            "_model_module_version": "1.5.0",
            "_model_name": "DescriptionStyleModel",
            "_view_count": null,
            "_view_module": "@jupyter-widgets/base",
            "_view_module_version": "1.2.0",
            "_view_name": "StyleView",
            "description_width": ""
          }
        },
        "c459e89a44d6436b8d64e9faea1bcad6": {
          "model_module": "@jupyter-widgets/controls",
          "model_name": "HBoxModel",
          "model_module_version": "1.5.0",
          "state": {
            "_dom_classes": [],
            "_model_module": "@jupyter-widgets/controls",
            "_model_module_version": "1.5.0",
            "_model_name": "HBoxModel",
            "_view_count": null,
            "_view_module": "@jupyter-widgets/controls",
            "_view_module_version": "1.5.0",
            "_view_name": "HBoxView",
            "box_style": "",
            "children": [
              "IPY_MODEL_43be9e88530c45fd81ceac36aec237f7",
              "IPY_MODEL_fe578ca1441d43ab80bdb132abcad5d0",
              "IPY_MODEL_3a251771ee28412687aaafcc32faa9d5"
            ],
            "layout": "IPY_MODEL_baf8c25c2f254703bbed4e62a7cb12d7"
          }
        },
        "43be9e88530c45fd81ceac36aec237f7": {
          "model_module": "@jupyter-widgets/controls",
          "model_name": "HTMLModel",
          "model_module_version": "1.5.0",
          "state": {
            "_dom_classes": [],
            "_model_module": "@jupyter-widgets/controls",
            "_model_module_version": "1.5.0",
            "_model_name": "HTMLModel",
            "_view_count": null,
            "_view_module": "@jupyter-widgets/controls",
            "_view_module_version": "1.5.0",
            "_view_name": "HTMLView",
            "description": "",
            "description_tooltip": null,
            "layout": "IPY_MODEL_2d5274e72ec64e3ab3e61ef83f3c0f4a",
            "placeholder": "​",
            "style": "IPY_MODEL_184604723b034b7ba51800fb36e32e40",
            "value": "100%"
          }
        },
        "fe578ca1441d43ab80bdb132abcad5d0": {
          "model_module": "@jupyter-widgets/controls",
          "model_name": "FloatProgressModel",
          "model_module_version": "1.5.0",
          "state": {
            "_dom_classes": [],
            "_model_module": "@jupyter-widgets/controls",
            "_model_module_version": "1.5.0",
            "_model_name": "FloatProgressModel",
            "_view_count": null,
            "_view_module": "@jupyter-widgets/controls",
            "_view_module_version": "1.5.0",
            "_view_name": "ProgressView",
            "bar_style": "success",
            "description": "",
            "description_tooltip": null,
            "layout": "IPY_MODEL_207957703ba6481f9f9312dd25becb04",
            "max": 4422102,
            "min": 0,
            "orientation": "horizontal",
            "style": "IPY_MODEL_dfb16dce62a74bbba924356ca6dd3d07",
            "value": 4422102
          }
        },
        "3a251771ee28412687aaafcc32faa9d5": {
          "model_module": "@jupyter-widgets/controls",
          "model_name": "HTMLModel",
          "model_module_version": "1.5.0",
          "state": {
            "_dom_classes": [],
            "_model_module": "@jupyter-widgets/controls",
            "_model_module_version": "1.5.0",
            "_model_name": "HTMLModel",
            "_view_count": null,
            "_view_module": "@jupyter-widgets/controls",
            "_view_module_version": "1.5.0",
            "_view_name": "HTMLView",
            "description": "",
            "description_tooltip": null,
            "layout": "IPY_MODEL_9f1177ec498b49eb87caa31281ab1466",
            "placeholder": "​",
            "style": "IPY_MODEL_1c6053eaadcb48cfbb8f78e117db2eca",
            "value": " 4422102/4422102 [00:00&lt;00:00, 48706654.38it/s]"
          }
        },
        "baf8c25c2f254703bbed4e62a7cb12d7": {
          "model_module": "@jupyter-widgets/base",
          "model_name": "LayoutModel",
          "model_module_version": "1.2.0",
          "state": {
            "_model_module": "@jupyter-widgets/base",
            "_model_module_version": "1.2.0",
            "_model_name": "LayoutModel",
            "_view_count": null,
            "_view_module": "@jupyter-widgets/base",
            "_view_module_version": "1.2.0",
            "_view_name": "LayoutView",
            "align_content": null,
            "align_items": null,
            "align_self": null,
            "border": null,
            "bottom": null,
            "display": null,
            "flex": null,
            "flex_flow": null,
            "grid_area": null,
            "grid_auto_columns": null,
            "grid_auto_flow": null,
            "grid_auto_rows": null,
            "grid_column": null,
            "grid_gap": null,
            "grid_row": null,
            "grid_template_areas": null,
            "grid_template_columns": null,
            "grid_template_rows": null,
            "height": null,
            "justify_content": null,
            "justify_items": null,
            "left": null,
            "margin": null,
            "max_height": null,
            "max_width": null,
            "min_height": null,
            "min_width": null,
            "object_fit": null,
            "object_position": null,
            "order": null,
            "overflow": null,
            "overflow_x": null,
            "overflow_y": null,
            "padding": null,
            "right": null,
            "top": null,
            "visibility": null,
            "width": null
          }
        },
        "2d5274e72ec64e3ab3e61ef83f3c0f4a": {
          "model_module": "@jupyter-widgets/base",
          "model_name": "LayoutModel",
          "model_module_version": "1.2.0",
          "state": {
            "_model_module": "@jupyter-widgets/base",
            "_model_module_version": "1.2.0",
            "_model_name": "LayoutModel",
            "_view_count": null,
            "_view_module": "@jupyter-widgets/base",
            "_view_module_version": "1.2.0",
            "_view_name": "LayoutView",
            "align_content": null,
            "align_items": null,
            "align_self": null,
            "border": null,
            "bottom": null,
            "display": null,
            "flex": null,
            "flex_flow": null,
            "grid_area": null,
            "grid_auto_columns": null,
            "grid_auto_flow": null,
            "grid_auto_rows": null,
            "grid_column": null,
            "grid_gap": null,
            "grid_row": null,
            "grid_template_areas": null,
            "grid_template_columns": null,
            "grid_template_rows": null,
            "height": null,
            "justify_content": null,
            "justify_items": null,
            "left": null,
            "margin": null,
            "max_height": null,
            "max_width": null,
            "min_height": null,
            "min_width": null,
            "object_fit": null,
            "object_position": null,
            "order": null,
            "overflow": null,
            "overflow_x": null,
            "overflow_y": null,
            "padding": null,
            "right": null,
            "top": null,
            "visibility": null,
            "width": null
          }
        },
        "184604723b034b7ba51800fb36e32e40": {
          "model_module": "@jupyter-widgets/controls",
          "model_name": "DescriptionStyleModel",
          "model_module_version": "1.5.0",
          "state": {
            "_model_module": "@jupyter-widgets/controls",
            "_model_module_version": "1.5.0",
            "_model_name": "DescriptionStyleModel",
            "_view_count": null,
            "_view_module": "@jupyter-widgets/base",
            "_view_module_version": "1.2.0",
            "_view_name": "StyleView",
            "description_width": ""
          }
        },
        "207957703ba6481f9f9312dd25becb04": {
          "model_module": "@jupyter-widgets/base",
          "model_name": "LayoutModel",
          "model_module_version": "1.2.0",
          "state": {
            "_model_module": "@jupyter-widgets/base",
            "_model_module_version": "1.2.0",
            "_model_name": "LayoutModel",
            "_view_count": null,
            "_view_module": "@jupyter-widgets/base",
            "_view_module_version": "1.2.0",
            "_view_name": "LayoutView",
            "align_content": null,
            "align_items": null,
            "align_self": null,
            "border": null,
            "bottom": null,
            "display": null,
            "flex": null,
            "flex_flow": null,
            "grid_area": null,
            "grid_auto_columns": null,
            "grid_auto_flow": null,
            "grid_auto_rows": null,
            "grid_column": null,
            "grid_gap": null,
            "grid_row": null,
            "grid_template_areas": null,
            "grid_template_columns": null,
            "grid_template_rows": null,
            "height": null,
            "justify_content": null,
            "justify_items": null,
            "left": null,
            "margin": null,
            "max_height": null,
            "max_width": null,
            "min_height": null,
            "min_width": null,
            "object_fit": null,
            "object_position": null,
            "order": null,
            "overflow": null,
            "overflow_x": null,
            "overflow_y": null,
            "padding": null,
            "right": null,
            "top": null,
            "visibility": null,
            "width": null
          }
        },
        "dfb16dce62a74bbba924356ca6dd3d07": {
          "model_module": "@jupyter-widgets/controls",
          "model_name": "ProgressStyleModel",
          "model_module_version": "1.5.0",
          "state": {
            "_model_module": "@jupyter-widgets/controls",
            "_model_module_version": "1.5.0",
            "_model_name": "ProgressStyleModel",
            "_view_count": null,
            "_view_module": "@jupyter-widgets/base",
            "_view_module_version": "1.2.0",
            "_view_name": "StyleView",
            "bar_color": null,
            "description_width": ""
          }
        },
        "9f1177ec498b49eb87caa31281ab1466": {
          "model_module": "@jupyter-widgets/base",
          "model_name": "LayoutModel",
          "model_module_version": "1.2.0",
          "state": {
            "_model_module": "@jupyter-widgets/base",
            "_model_module_version": "1.2.0",
            "_model_name": "LayoutModel",
            "_view_count": null,
            "_view_module": "@jupyter-widgets/base",
            "_view_module_version": "1.2.0",
            "_view_name": "LayoutView",
            "align_content": null,
            "align_items": null,
            "align_self": null,
            "border": null,
            "bottom": null,
            "display": null,
            "flex": null,
            "flex_flow": null,
            "grid_area": null,
            "grid_auto_columns": null,
            "grid_auto_flow": null,
            "grid_auto_rows": null,
            "grid_column": null,
            "grid_gap": null,
            "grid_row": null,
            "grid_template_areas": null,
            "grid_template_columns": null,
            "grid_template_rows": null,
            "height": null,
            "justify_content": null,
            "justify_items": null,
            "left": null,
            "margin": null,
            "max_height": null,
            "max_width": null,
            "min_height": null,
            "min_width": null,
            "object_fit": null,
            "object_position": null,
            "order": null,
            "overflow": null,
            "overflow_x": null,
            "overflow_y": null,
            "padding": null,
            "right": null,
            "top": null,
            "visibility": null,
            "width": null
          }
        },
        "1c6053eaadcb48cfbb8f78e117db2eca": {
          "model_module": "@jupyter-widgets/controls",
          "model_name": "DescriptionStyleModel",
          "model_module_version": "1.5.0",
          "state": {
            "_model_module": "@jupyter-widgets/controls",
            "_model_module_version": "1.5.0",
            "_model_name": "DescriptionStyleModel",
            "_view_count": null,
            "_view_module": "@jupyter-widgets/base",
            "_view_module_version": "1.2.0",
            "_view_name": "StyleView",
            "description_width": ""
          }
        },
        "a2fbd8f861484d9e945897b8f5d2d7b3": {
          "model_module": "@jupyter-widgets/controls",
          "model_name": "HBoxModel",
          "model_module_version": "1.5.0",
          "state": {
            "_dom_classes": [],
            "_model_module": "@jupyter-widgets/controls",
            "_model_module_version": "1.5.0",
            "_model_name": "HBoxModel",
            "_view_count": null,
            "_view_module": "@jupyter-widgets/controls",
            "_view_module_version": "1.5.0",
            "_view_name": "HBoxView",
            "box_style": "",
            "children": [
              "IPY_MODEL_3c4ffa0a181f41a0a12b427ce4f46a2d",
              "IPY_MODEL_bb9e25c2a0fa40b98059c3eb3487da98",
              "IPY_MODEL_c0ba8fbe24c34c48a699eb5806c9c21e"
            ],
            "layout": "IPY_MODEL_e0fe497d677347959bff72f9048ae8b4"
          }
        },
        "3c4ffa0a181f41a0a12b427ce4f46a2d": {
          "model_module": "@jupyter-widgets/controls",
          "model_name": "HTMLModel",
          "model_module_version": "1.5.0",
          "state": {
            "_dom_classes": [],
            "_model_module": "@jupyter-widgets/controls",
            "_model_module_version": "1.5.0",
            "_model_name": "HTMLModel",
            "_view_count": null,
            "_view_module": "@jupyter-widgets/controls",
            "_view_module_version": "1.5.0",
            "_view_name": "HTMLView",
            "description": "",
            "description_tooltip": null,
            "layout": "IPY_MODEL_e66fcc3be6d4449e84f5d9477218ade9",
            "placeholder": "​",
            "style": "IPY_MODEL_4ff331087a57424ca95a356385e0c840",
            "value": "100%"
          }
        },
        "bb9e25c2a0fa40b98059c3eb3487da98": {
          "model_module": "@jupyter-widgets/controls",
          "model_name": "FloatProgressModel",
          "model_module_version": "1.5.0",
          "state": {
            "_dom_classes": [],
            "_model_module": "@jupyter-widgets/controls",
            "_model_module_version": "1.5.0",
            "_model_name": "FloatProgressModel",
            "_view_count": null,
            "_view_module": "@jupyter-widgets/controls",
            "_view_module_version": "1.5.0",
            "_view_name": "ProgressView",
            "bar_style": "success",
            "description": "",
            "description_tooltip": null,
            "layout": "IPY_MODEL_595adc55648c4fa7a001b63de94333b8",
            "max": 5148,
            "min": 0,
            "orientation": "horizontal",
            "style": "IPY_MODEL_008bbe49f5ee46b6a3cae4d5868973b2",
            "value": 5148
          }
        },
        "c0ba8fbe24c34c48a699eb5806c9c21e": {
          "model_module": "@jupyter-widgets/controls",
          "model_name": "HTMLModel",
          "model_module_version": "1.5.0",
          "state": {
            "_dom_classes": [],
            "_model_module": "@jupyter-widgets/controls",
            "_model_module_version": "1.5.0",
            "_model_name": "HTMLModel",
            "_view_count": null,
            "_view_module": "@jupyter-widgets/controls",
            "_view_module_version": "1.5.0",
            "_view_name": "HTMLView",
            "description": "",
            "description_tooltip": null,
            "layout": "IPY_MODEL_07c7583544604c21ab6266349064d5a8",
            "placeholder": "​",
            "style": "IPY_MODEL_d92cd157ad13423887d6ba5eaf80ef14",
            "value": " 5148/5148 [00:00&lt;00:00, 98408.39it/s]"
          }
        },
        "e0fe497d677347959bff72f9048ae8b4": {
          "model_module": "@jupyter-widgets/base",
          "model_name": "LayoutModel",
          "model_module_version": "1.2.0",
          "state": {
            "_model_module": "@jupyter-widgets/base",
            "_model_module_version": "1.2.0",
            "_model_name": "LayoutModel",
            "_view_count": null,
            "_view_module": "@jupyter-widgets/base",
            "_view_module_version": "1.2.0",
            "_view_name": "LayoutView",
            "align_content": null,
            "align_items": null,
            "align_self": null,
            "border": null,
            "bottom": null,
            "display": null,
            "flex": null,
            "flex_flow": null,
            "grid_area": null,
            "grid_auto_columns": null,
            "grid_auto_flow": null,
            "grid_auto_rows": null,
            "grid_column": null,
            "grid_gap": null,
            "grid_row": null,
            "grid_template_areas": null,
            "grid_template_columns": null,
            "grid_template_rows": null,
            "height": null,
            "justify_content": null,
            "justify_items": null,
            "left": null,
            "margin": null,
            "max_height": null,
            "max_width": null,
            "min_height": null,
            "min_width": null,
            "object_fit": null,
            "object_position": null,
            "order": null,
            "overflow": null,
            "overflow_x": null,
            "overflow_y": null,
            "padding": null,
            "right": null,
            "top": null,
            "visibility": null,
            "width": null
          }
        },
        "e66fcc3be6d4449e84f5d9477218ade9": {
          "model_module": "@jupyter-widgets/base",
          "model_name": "LayoutModel",
          "model_module_version": "1.2.0",
          "state": {
            "_model_module": "@jupyter-widgets/base",
            "_model_module_version": "1.2.0",
            "_model_name": "LayoutModel",
            "_view_count": null,
            "_view_module": "@jupyter-widgets/base",
            "_view_module_version": "1.2.0",
            "_view_name": "LayoutView",
            "align_content": null,
            "align_items": null,
            "align_self": null,
            "border": null,
            "bottom": null,
            "display": null,
            "flex": null,
            "flex_flow": null,
            "grid_area": null,
            "grid_auto_columns": null,
            "grid_auto_flow": null,
            "grid_auto_rows": null,
            "grid_column": null,
            "grid_gap": null,
            "grid_row": null,
            "grid_template_areas": null,
            "grid_template_columns": null,
            "grid_template_rows": null,
            "height": null,
            "justify_content": null,
            "justify_items": null,
            "left": null,
            "margin": null,
            "max_height": null,
            "max_width": null,
            "min_height": null,
            "min_width": null,
            "object_fit": null,
            "object_position": null,
            "order": null,
            "overflow": null,
            "overflow_x": null,
            "overflow_y": null,
            "padding": null,
            "right": null,
            "top": null,
            "visibility": null,
            "width": null
          }
        },
        "4ff331087a57424ca95a356385e0c840": {
          "model_module": "@jupyter-widgets/controls",
          "model_name": "DescriptionStyleModel",
          "model_module_version": "1.5.0",
          "state": {
            "_model_module": "@jupyter-widgets/controls",
            "_model_module_version": "1.5.0",
            "_model_name": "DescriptionStyleModel",
            "_view_count": null,
            "_view_module": "@jupyter-widgets/base",
            "_view_module_version": "1.2.0",
            "_view_name": "StyleView",
            "description_width": ""
          }
        },
        "595adc55648c4fa7a001b63de94333b8": {
          "model_module": "@jupyter-widgets/base",
          "model_name": "LayoutModel",
          "model_module_version": "1.2.0",
          "state": {
            "_model_module": "@jupyter-widgets/base",
            "_model_module_version": "1.2.0",
            "_model_name": "LayoutModel",
            "_view_count": null,
            "_view_module": "@jupyter-widgets/base",
            "_view_module_version": "1.2.0",
            "_view_name": "LayoutView",
            "align_content": null,
            "align_items": null,
            "align_self": null,
            "border": null,
            "bottom": null,
            "display": null,
            "flex": null,
            "flex_flow": null,
            "grid_area": null,
            "grid_auto_columns": null,
            "grid_auto_flow": null,
            "grid_auto_rows": null,
            "grid_column": null,
            "grid_gap": null,
            "grid_row": null,
            "grid_template_areas": null,
            "grid_template_columns": null,
            "grid_template_rows": null,
            "height": null,
            "justify_content": null,
            "justify_items": null,
            "left": null,
            "margin": null,
            "max_height": null,
            "max_width": null,
            "min_height": null,
            "min_width": null,
            "object_fit": null,
            "object_position": null,
            "order": null,
            "overflow": null,
            "overflow_x": null,
            "overflow_y": null,
            "padding": null,
            "right": null,
            "top": null,
            "visibility": null,
            "width": null
          }
        },
        "008bbe49f5ee46b6a3cae4d5868973b2": {
          "model_module": "@jupyter-widgets/controls",
          "model_name": "ProgressStyleModel",
          "model_module_version": "1.5.0",
          "state": {
            "_model_module": "@jupyter-widgets/controls",
            "_model_module_version": "1.5.0",
            "_model_name": "ProgressStyleModel",
            "_view_count": null,
            "_view_module": "@jupyter-widgets/base",
            "_view_module_version": "1.2.0",
            "_view_name": "StyleView",
            "bar_color": null,
            "description_width": ""
          }
        },
        "07c7583544604c21ab6266349064d5a8": {
          "model_module": "@jupyter-widgets/base",
          "model_name": "LayoutModel",
          "model_module_version": "1.2.0",
          "state": {
            "_model_module": "@jupyter-widgets/base",
            "_model_module_version": "1.2.0",
            "_model_name": "LayoutModel",
            "_view_count": null,
            "_view_module": "@jupyter-widgets/base",
            "_view_module_version": "1.2.0",
            "_view_name": "LayoutView",
            "align_content": null,
            "align_items": null,
            "align_self": null,
            "border": null,
            "bottom": null,
            "display": null,
            "flex": null,
            "flex_flow": null,
            "grid_area": null,
            "grid_auto_columns": null,
            "grid_auto_flow": null,
            "grid_auto_rows": null,
            "grid_column": null,
            "grid_gap": null,
            "grid_row": null,
            "grid_template_areas": null,
            "grid_template_columns": null,
            "grid_template_rows": null,
            "height": null,
            "justify_content": null,
            "justify_items": null,
            "left": null,
            "margin": null,
            "max_height": null,
            "max_width": null,
            "min_height": null,
            "min_width": null,
            "object_fit": null,
            "object_position": null,
            "order": null,
            "overflow": null,
            "overflow_x": null,
            "overflow_y": null,
            "padding": null,
            "right": null,
            "top": null,
            "visibility": null,
            "width": null
          }
        },
        "d92cd157ad13423887d6ba5eaf80ef14": {
          "model_module": "@jupyter-widgets/controls",
          "model_name": "DescriptionStyleModel",
          "model_module_version": "1.5.0",
          "state": {
            "_model_module": "@jupyter-widgets/controls",
            "_model_module_version": "1.5.0",
            "_model_name": "DescriptionStyleModel",
            "_view_count": null,
            "_view_module": "@jupyter-widgets/base",
            "_view_module_version": "1.2.0",
            "_view_name": "StyleView",
            "description_width": ""
          }
        }
      }
    },
    "accelerator": "GPU",
    "gpuClass": "standard"
  },
  "cells": [
    {
      "cell_type": "markdown",
      "source": [
        "**1.a - Scratch neural network model**"
      ],
      "metadata": {
        "id": "sboR7y55tW-A"
      }
    },
    {
      "cell_type": "code",
      "execution_count": 2,
      "metadata": {
        "colab": {
          "base_uri": "https://localhost:8080/"
        },
        "id": "nEcbrls1jE55",
        "outputId": "1292b77d-2c21-420b-dcbc-d62160a154c6"
      },
      "outputs": [
        {
          "output_type": "stream",
          "name": "stdout",
          "text": [
            "Looking in indexes: https://pypi.org/simple, https://us-python.pkg.dev/colab-wheels/public/simple/\n",
            "Collecting d2l==0.14.2\n",
            "  Downloading d2l-0.14.2-py3-none-any.whl (53 kB)\n",
            "\u001b[2K     \u001b[90m━━━━━━━━━━━━━━━━━━━━━━━━━━━━━━━━━━━━━━━━\u001b[0m \u001b[32m53.1/53.1 KB\u001b[0m \u001b[31m1.1 MB/s\u001b[0m eta \u001b[36m0:00:00\u001b[0m\n",
            "\u001b[?25hCollecting jupyter\n",
            "  Downloading jupyter-1.0.0-py2.py3-none-any.whl (2.7 kB)\n",
            "Requirement already satisfied: matplotlib in /usr/local/lib/python3.8/dist-packages (from d2l==0.14.2) (3.2.2)\n",
            "Requirement already satisfied: pandas in /usr/local/lib/python3.8/dist-packages (from d2l==0.14.2) (1.3.5)\n",
            "Requirement already satisfied: numpy in /usr/local/lib/python3.8/dist-packages (from d2l==0.14.2) (1.21.6)\n",
            "Requirement already satisfied: jupyter-console in /usr/local/lib/python3.8/dist-packages (from jupyter->d2l==0.14.2) (6.1.0)\n",
            "Requirement already satisfied: ipywidgets in /usr/local/lib/python3.8/dist-packages (from jupyter->d2l==0.14.2) (7.7.1)\n",
            "Requirement already satisfied: nbconvert in /usr/local/lib/python3.8/dist-packages (from jupyter->d2l==0.14.2) (5.6.1)\n",
            "Collecting qtconsole\n",
            "  Downloading qtconsole-5.4.0-py3-none-any.whl (121 kB)\n",
            "\u001b[2K     \u001b[90m━━━━━━━━━━━━━━━━━━━━━━━━━━━━━━━━━━━━━━━\u001b[0m \u001b[32m121.0/121.0 KB\u001b[0m \u001b[31m4.8 MB/s\u001b[0m eta \u001b[36m0:00:00\u001b[0m\n",
            "\u001b[?25hRequirement already satisfied: ipykernel in /usr/local/lib/python3.8/dist-packages (from jupyter->d2l==0.14.2) (5.3.4)\n",
            "Requirement already satisfied: notebook in /usr/local/lib/python3.8/dist-packages (from jupyter->d2l==0.14.2) (5.7.16)\n",
            "Requirement already satisfied: cycler>=0.10 in /usr/local/lib/python3.8/dist-packages (from matplotlib->d2l==0.14.2) (0.11.0)\n",
            "Requirement already satisfied: python-dateutil>=2.1 in /usr/local/lib/python3.8/dist-packages (from matplotlib->d2l==0.14.2) (2.8.2)\n",
            "Requirement already satisfied: kiwisolver>=1.0.1 in /usr/local/lib/python3.8/dist-packages (from matplotlib->d2l==0.14.2) (1.4.4)\n",
            "Requirement already satisfied: pyparsing!=2.0.4,!=2.1.2,!=2.1.6,>=2.0.1 in /usr/local/lib/python3.8/dist-packages (from matplotlib->d2l==0.14.2) (3.0.9)\n",
            "Requirement already satisfied: pytz>=2017.3 in /usr/local/lib/python3.8/dist-packages (from pandas->d2l==0.14.2) (2022.7.1)\n",
            "Requirement already satisfied: six>=1.5 in /usr/local/lib/python3.8/dist-packages (from python-dateutil>=2.1->matplotlib->d2l==0.14.2) (1.15.0)\n",
            "Requirement already satisfied: ipython>=5.0.0 in /usr/local/lib/python3.8/dist-packages (from ipykernel->jupyter->d2l==0.14.2) (7.9.0)\n",
            "Requirement already satisfied: traitlets>=4.1.0 in /usr/local/lib/python3.8/dist-packages (from ipykernel->jupyter->d2l==0.14.2) (5.7.1)\n",
            "Requirement already satisfied: tornado>=4.2 in /usr/local/lib/python3.8/dist-packages (from ipykernel->jupyter->d2l==0.14.2) (6.0.4)\n",
            "Requirement already satisfied: jupyter-client in /usr/local/lib/python3.8/dist-packages (from ipykernel->jupyter->d2l==0.14.2) (6.1.12)\n",
            "Requirement already satisfied: widgetsnbextension~=3.6.0 in /usr/local/lib/python3.8/dist-packages (from ipywidgets->jupyter->d2l==0.14.2) (3.6.1)\n",
            "Requirement already satisfied: jupyterlab-widgets>=1.0.0 in /usr/local/lib/python3.8/dist-packages (from ipywidgets->jupyter->d2l==0.14.2) (3.0.5)\n",
            "Requirement already satisfied: ipython-genutils~=0.2.0 in /usr/local/lib/python3.8/dist-packages (from ipywidgets->jupyter->d2l==0.14.2) (0.2.0)\n",
            "Requirement already satisfied: pygments in /usr/local/lib/python3.8/dist-packages (from jupyter-console->jupyter->d2l==0.14.2) (2.6.1)\n",
            "Requirement already satisfied: prompt-toolkit!=3.0.0,!=3.0.1,<3.1.0,>=2.0.0 in /usr/local/lib/python3.8/dist-packages (from jupyter-console->jupyter->d2l==0.14.2) (2.0.10)\n",
            "Requirement already satisfied: testpath in /usr/local/lib/python3.8/dist-packages (from nbconvert->jupyter->d2l==0.14.2) (0.6.0)\n",
            "Requirement already satisfied: mistune<2,>=0.8.1 in /usr/local/lib/python3.8/dist-packages (from nbconvert->jupyter->d2l==0.14.2) (0.8.4)\n",
            "Requirement already satisfied: jupyter-core in /usr/local/lib/python3.8/dist-packages (from nbconvert->jupyter->d2l==0.14.2) (5.2.0)\n",
            "Requirement already satisfied: nbformat>=4.4 in /usr/local/lib/python3.8/dist-packages (from nbconvert->jupyter->d2l==0.14.2) (5.7.3)\n",
            "Requirement already satisfied: defusedxml in /usr/local/lib/python3.8/dist-packages (from nbconvert->jupyter->d2l==0.14.2) (0.7.1)\n",
            "Requirement already satisfied: jinja2>=2.4 in /usr/local/lib/python3.8/dist-packages (from nbconvert->jupyter->d2l==0.14.2) (2.11.3)\n",
            "Requirement already satisfied: bleach in /usr/local/lib/python3.8/dist-packages (from nbconvert->jupyter->d2l==0.14.2) (6.0.0)\n",
            "Requirement already satisfied: entrypoints>=0.2.2 in /usr/local/lib/python3.8/dist-packages (from nbconvert->jupyter->d2l==0.14.2) (0.4)\n",
            "Requirement already satisfied: pandocfilters>=1.4.1 in /usr/local/lib/python3.8/dist-packages (from nbconvert->jupyter->d2l==0.14.2) (1.5.0)\n",
            "Requirement already satisfied: terminado>=0.8.1 in /usr/local/lib/python3.8/dist-packages (from notebook->jupyter->d2l==0.14.2) (0.13.3)\n",
            "Requirement already satisfied: prometheus-client in /usr/local/lib/python3.8/dist-packages (from notebook->jupyter->d2l==0.14.2) (0.16.0)\n",
            "Requirement already satisfied: Send2Trash in /usr/local/lib/python3.8/dist-packages (from notebook->jupyter->d2l==0.14.2) (1.8.0)\n",
            "Requirement already satisfied: pyzmq>=17 in /usr/local/lib/python3.8/dist-packages (from notebook->jupyter->d2l==0.14.2) (23.2.1)\n",
            "Collecting qtpy>=2.0.1\n",
            "  Downloading QtPy-2.3.0-py3-none-any.whl (83 kB)\n",
            "\u001b[2K     \u001b[90m━━━━━━━━━━━━━━━━━━━━━━━━━━━━━━━━━━━━━━━━\u001b[0m \u001b[32m83.6/83.6 KB\u001b[0m \u001b[31m5.7 MB/s\u001b[0m eta \u001b[36m0:00:00\u001b[0m\n",
            "\u001b[?25hCollecting jedi>=0.10\n",
            "  Downloading jedi-0.18.2-py2.py3-none-any.whl (1.6 MB)\n",
            "\u001b[2K     \u001b[90m━━━━━━━━━━━━━━━━━━━━━━━━━━━━━━━━━━━━━━━━\u001b[0m \u001b[32m1.6/1.6 MB\u001b[0m \u001b[31m42.5 MB/s\u001b[0m eta \u001b[36m0:00:00\u001b[0m\n",
            "\u001b[?25hRequirement already satisfied: decorator in /usr/local/lib/python3.8/dist-packages (from ipython>=5.0.0->ipykernel->jupyter->d2l==0.14.2) (4.4.2)\n",
            "Requirement already satisfied: backcall in /usr/local/lib/python3.8/dist-packages (from ipython>=5.0.0->ipykernel->jupyter->d2l==0.14.2) (0.2.0)\n",
            "Requirement already satisfied: setuptools>=18.5 in /usr/local/lib/python3.8/dist-packages (from ipython>=5.0.0->ipykernel->jupyter->d2l==0.14.2) (57.4.0)\n",
            "Requirement already satisfied: pickleshare in /usr/local/lib/python3.8/dist-packages (from ipython>=5.0.0->ipykernel->jupyter->d2l==0.14.2) (0.7.5)\n",
            "Requirement already satisfied: pexpect in /usr/local/lib/python3.8/dist-packages (from ipython>=5.0.0->ipykernel->jupyter->d2l==0.14.2) (4.8.0)\n",
            "Requirement already satisfied: MarkupSafe>=0.23 in /usr/local/lib/python3.8/dist-packages (from jinja2>=2.4->nbconvert->jupyter->d2l==0.14.2) (2.0.1)\n",
            "Requirement already satisfied: platformdirs>=2.5 in /usr/local/lib/python3.8/dist-packages (from jupyter-core->nbconvert->jupyter->d2l==0.14.2) (2.6.2)\n",
            "Requirement already satisfied: jsonschema>=2.6 in /usr/local/lib/python3.8/dist-packages (from nbformat>=4.4->nbconvert->jupyter->d2l==0.14.2) (4.3.3)\n",
            "Requirement already satisfied: fastjsonschema in /usr/local/lib/python3.8/dist-packages (from nbformat>=4.4->nbconvert->jupyter->d2l==0.14.2) (2.16.2)\n",
            "Requirement already satisfied: wcwidth in /usr/local/lib/python3.8/dist-packages (from prompt-toolkit!=3.0.0,!=3.0.1,<3.1.0,>=2.0.0->jupyter-console->jupyter->d2l==0.14.2) (0.2.6)\n",
            "Requirement already satisfied: packaging in /usr/local/lib/python3.8/dist-packages (from qtpy>=2.0.1->qtconsole->jupyter->d2l==0.14.2) (23.0)\n",
            "Requirement already satisfied: ptyprocess in /usr/local/lib/python3.8/dist-packages (from terminado>=0.8.1->notebook->jupyter->d2l==0.14.2) (0.7.0)\n",
            "Requirement already satisfied: webencodings in /usr/local/lib/python3.8/dist-packages (from bleach->nbconvert->jupyter->d2l==0.14.2) (0.5.1)\n",
            "Requirement already satisfied: parso<0.9.0,>=0.8.0 in /usr/local/lib/python3.8/dist-packages (from jedi>=0.10->ipython>=5.0.0->ipykernel->jupyter->d2l==0.14.2) (0.8.3)\n",
            "Requirement already satisfied: importlib-resources>=1.4.0 in /usr/local/lib/python3.8/dist-packages (from jsonschema>=2.6->nbformat>=4.4->nbconvert->jupyter->d2l==0.14.2) (5.10.2)\n",
            "Requirement already satisfied: attrs>=17.4.0 in /usr/local/lib/python3.8/dist-packages (from jsonschema>=2.6->nbformat>=4.4->nbconvert->jupyter->d2l==0.14.2) (22.2.0)\n",
            "Requirement already satisfied: pyrsistent!=0.17.0,!=0.17.1,!=0.17.2,>=0.14.0 in /usr/local/lib/python3.8/dist-packages (from jsonschema>=2.6->nbformat>=4.4->nbconvert->jupyter->d2l==0.14.2) (0.19.3)\n",
            "Requirement already satisfied: zipp>=3.1.0 in /usr/local/lib/python3.8/dist-packages (from importlib-resources>=1.4.0->jsonschema>=2.6->nbformat>=4.4->nbconvert->jupyter->d2l==0.14.2) (3.12.0)\n",
            "Installing collected packages: qtpy, jedi, qtconsole, jupyter, d2l\n",
            "Successfully installed d2l-0.14.2 jedi-0.18.2 jupyter-1.0.0 qtconsole-5.4.0 qtpy-2.3.0\n",
            "Looking in indexes: https://pypi.org/simple, https://us-python.pkg.dev/colab-wheels/public/simple/\n",
            "\u001b[31mERROR: Could not find a version that satisfies the requirement mxnet-cu101mkl==1.6.0 (from versions: 1.4.1, 1.5.0, 1.5.1, 1.5.1.post0, 1.6.0.post0)\u001b[0m\u001b[31m\n",
            "\u001b[0m\u001b[31mERROR: No matching distribution found for mxnet-cu101mkl==1.6.0\u001b[0m\u001b[31m\n",
            "\u001b[0mLooking in indexes: https://pypi.org/simple, https://us-python.pkg.dev/colab-wheels/public/simple/\n",
            "Collecting d2l==1.0.0a0\n",
            "  Downloading d2l-1.0.0a0-py3-none-any.whl (92 kB)\n",
            "\u001b[2K     \u001b[90m━━━━━━━━━━━━━━━━━━━━━━━━━━━━━━━━━━━━━━━━\u001b[0m \u001b[32m92.9/92.9 KB\u001b[0m \u001b[31m6.1 MB/s\u001b[0m eta \u001b[36m0:00:00\u001b[0m\n",
            "\u001b[?25hRequirement already satisfied: gym in /usr/local/lib/python3.8/dist-packages (from d2l==1.0.0a0) (0.25.2)\n",
            "Requirement already satisfied: jupyter in /usr/local/lib/python3.8/dist-packages (from d2l==1.0.0a0) (1.0.0)\n",
            "Requirement already satisfied: matplotlib in /usr/local/lib/python3.8/dist-packages (from d2l==1.0.0a0) (3.2.2)\n",
            "Requirement already satisfied: numpy in /usr/local/lib/python3.8/dist-packages (from d2l==1.0.0a0) (1.21.6)\n",
            "Requirement already satisfied: requests in /usr/local/lib/python3.8/dist-packages (from d2l==1.0.0a0) (2.25.1)\n",
            "Requirement already satisfied: pandas in /usr/local/lib/python3.8/dist-packages (from d2l==1.0.0a0) (1.3.5)\n",
            "Requirement already satisfied: importlib-metadata>=4.8.0 in /usr/local/lib/python3.8/dist-packages (from gym->d2l==1.0.0a0) (6.0.0)\n",
            "Requirement already satisfied: cloudpickle>=1.2.0 in /usr/local/lib/python3.8/dist-packages (from gym->d2l==1.0.0a0) (2.2.1)\n",
            "Requirement already satisfied: gym-notices>=0.0.4 in /usr/local/lib/python3.8/dist-packages (from gym->d2l==1.0.0a0) (0.0.8)\n",
            "Requirement already satisfied: ipykernel in /usr/local/lib/python3.8/dist-packages (from jupyter->d2l==1.0.0a0) (5.3.4)\n",
            "Requirement already satisfied: jupyter-console in /usr/local/lib/python3.8/dist-packages (from jupyter->d2l==1.0.0a0) (6.1.0)\n",
            "Requirement already satisfied: ipywidgets in /usr/local/lib/python3.8/dist-packages (from jupyter->d2l==1.0.0a0) (7.7.1)\n",
            "Requirement already satisfied: notebook in /usr/local/lib/python3.8/dist-packages (from jupyter->d2l==1.0.0a0) (5.7.16)\n",
            "Requirement already satisfied: nbconvert in /usr/local/lib/python3.8/dist-packages (from jupyter->d2l==1.0.0a0) (5.6.1)\n",
            "Requirement already satisfied: qtconsole in /usr/local/lib/python3.8/dist-packages (from jupyter->d2l==1.0.0a0) (5.4.0)\n",
            "Requirement already satisfied: python-dateutil>=2.1 in /usr/local/lib/python3.8/dist-packages (from matplotlib->d2l==1.0.0a0) (2.8.2)\n",
            "Requirement already satisfied: pyparsing!=2.0.4,!=2.1.2,!=2.1.6,>=2.0.1 in /usr/local/lib/python3.8/dist-packages (from matplotlib->d2l==1.0.0a0) (3.0.9)\n",
            "Requirement already satisfied: cycler>=0.10 in /usr/local/lib/python3.8/dist-packages (from matplotlib->d2l==1.0.0a0) (0.11.0)\n",
            "Requirement already satisfied: kiwisolver>=1.0.1 in /usr/local/lib/python3.8/dist-packages (from matplotlib->d2l==1.0.0a0) (1.4.4)\n",
            "Requirement already satisfied: pytz>=2017.3 in /usr/local/lib/python3.8/dist-packages (from pandas->d2l==1.0.0a0) (2022.7.1)\n",
            "Requirement already satisfied: urllib3<1.27,>=1.21.1 in /usr/local/lib/python3.8/dist-packages (from requests->d2l==1.0.0a0) (1.24.3)\n",
            "Requirement already satisfied: idna<3,>=2.5 in /usr/local/lib/python3.8/dist-packages (from requests->d2l==1.0.0a0) (2.10)\n",
            "Requirement already satisfied: chardet<5,>=3.0.2 in /usr/local/lib/python3.8/dist-packages (from requests->d2l==1.0.0a0) (4.0.0)\n",
            "Requirement already satisfied: certifi>=2017.4.17 in /usr/local/lib/python3.8/dist-packages (from requests->d2l==1.0.0a0) (2022.12.7)\n",
            "Requirement already satisfied: zipp>=0.5 in /usr/local/lib/python3.8/dist-packages (from importlib-metadata>=4.8.0->gym->d2l==1.0.0a0) (3.12.0)\n",
            "Requirement already satisfied: six>=1.5 in /usr/local/lib/python3.8/dist-packages (from python-dateutil>=2.1->matplotlib->d2l==1.0.0a0) (1.15.0)\n",
            "Requirement already satisfied: tornado>=4.2 in /usr/local/lib/python3.8/dist-packages (from ipykernel->jupyter->d2l==1.0.0a0) (6.0.4)\n",
            "Requirement already satisfied: ipython>=5.0.0 in /usr/local/lib/python3.8/dist-packages (from ipykernel->jupyter->d2l==1.0.0a0) (7.9.0)\n",
            "Requirement already satisfied: jupyter-client in /usr/local/lib/python3.8/dist-packages (from ipykernel->jupyter->d2l==1.0.0a0) (6.1.12)\n",
            "Requirement already satisfied: traitlets>=4.1.0 in /usr/local/lib/python3.8/dist-packages (from ipykernel->jupyter->d2l==1.0.0a0) (5.7.1)\n",
            "Requirement already satisfied: widgetsnbextension~=3.6.0 in /usr/local/lib/python3.8/dist-packages (from ipywidgets->jupyter->d2l==1.0.0a0) (3.6.1)\n",
            "Requirement already satisfied: ipython-genutils~=0.2.0 in /usr/local/lib/python3.8/dist-packages (from ipywidgets->jupyter->d2l==1.0.0a0) (0.2.0)\n",
            "Requirement already satisfied: jupyterlab-widgets>=1.0.0 in /usr/local/lib/python3.8/dist-packages (from ipywidgets->jupyter->d2l==1.0.0a0) (3.0.5)\n",
            "Requirement already satisfied: prompt-toolkit!=3.0.0,!=3.0.1,<3.1.0,>=2.0.0 in /usr/local/lib/python3.8/dist-packages (from jupyter-console->jupyter->d2l==1.0.0a0) (2.0.10)\n",
            "Requirement already satisfied: pygments in /usr/local/lib/python3.8/dist-packages (from jupyter-console->jupyter->d2l==1.0.0a0) (2.6.1)\n",
            "Requirement already satisfied: defusedxml in /usr/local/lib/python3.8/dist-packages (from nbconvert->jupyter->d2l==1.0.0a0) (0.7.1)\n",
            "Requirement already satisfied: jupyter-core in /usr/local/lib/python3.8/dist-packages (from nbconvert->jupyter->d2l==1.0.0a0) (5.2.0)\n",
            "Requirement already satisfied: entrypoints>=0.2.2 in /usr/local/lib/python3.8/dist-packages (from nbconvert->jupyter->d2l==1.0.0a0) (0.4)\n",
            "Requirement already satisfied: nbformat>=4.4 in /usr/local/lib/python3.8/dist-packages (from nbconvert->jupyter->d2l==1.0.0a0) (5.7.3)\n",
            "Requirement already satisfied: jinja2>=2.4 in /usr/local/lib/python3.8/dist-packages (from nbconvert->jupyter->d2l==1.0.0a0) (2.11.3)\n",
            "Requirement already satisfied: mistune<2,>=0.8.1 in /usr/local/lib/python3.8/dist-packages (from nbconvert->jupyter->d2l==1.0.0a0) (0.8.4)\n",
            "Requirement already satisfied: testpath in /usr/local/lib/python3.8/dist-packages (from nbconvert->jupyter->d2l==1.0.0a0) (0.6.0)\n",
            "Requirement already satisfied: bleach in /usr/local/lib/python3.8/dist-packages (from nbconvert->jupyter->d2l==1.0.0a0) (6.0.0)\n",
            "Requirement already satisfied: pandocfilters>=1.4.1 in /usr/local/lib/python3.8/dist-packages (from nbconvert->jupyter->d2l==1.0.0a0) (1.5.0)\n",
            "Requirement already satisfied: pyzmq>=17 in /usr/local/lib/python3.8/dist-packages (from notebook->jupyter->d2l==1.0.0a0) (23.2.1)\n",
            "Requirement already satisfied: terminado>=0.8.1 in /usr/local/lib/python3.8/dist-packages (from notebook->jupyter->d2l==1.0.0a0) (0.13.3)\n",
            "Requirement already satisfied: Send2Trash in /usr/local/lib/python3.8/dist-packages (from notebook->jupyter->d2l==1.0.0a0) (1.8.0)\n",
            "Requirement already satisfied: prometheus-client in /usr/local/lib/python3.8/dist-packages (from notebook->jupyter->d2l==1.0.0a0) (0.16.0)\n",
            "Requirement already satisfied: qtpy>=2.0.1 in /usr/local/lib/python3.8/dist-packages (from qtconsole->jupyter->d2l==1.0.0a0) (2.3.0)\n",
            "Requirement already satisfied: pexpect in /usr/local/lib/python3.8/dist-packages (from ipython>=5.0.0->ipykernel->jupyter->d2l==1.0.0a0) (4.8.0)\n",
            "Requirement already satisfied: decorator in /usr/local/lib/python3.8/dist-packages (from ipython>=5.0.0->ipykernel->jupyter->d2l==1.0.0a0) (4.4.2)\n",
            "Requirement already satisfied: pickleshare in /usr/local/lib/python3.8/dist-packages (from ipython>=5.0.0->ipykernel->jupyter->d2l==1.0.0a0) (0.7.5)\n",
            "Requirement already satisfied: setuptools>=18.5 in /usr/local/lib/python3.8/dist-packages (from ipython>=5.0.0->ipykernel->jupyter->d2l==1.0.0a0) (57.4.0)\n",
            "Requirement already satisfied: jedi>=0.10 in /usr/local/lib/python3.8/dist-packages (from ipython>=5.0.0->ipykernel->jupyter->d2l==1.0.0a0) (0.18.2)\n",
            "Requirement already satisfied: backcall in /usr/local/lib/python3.8/dist-packages (from ipython>=5.0.0->ipykernel->jupyter->d2l==1.0.0a0) (0.2.0)\n",
            "Requirement already satisfied: MarkupSafe>=0.23 in /usr/local/lib/python3.8/dist-packages (from jinja2>=2.4->nbconvert->jupyter->d2l==1.0.0a0) (2.0.1)\n",
            "Requirement already satisfied: platformdirs>=2.5 in /usr/local/lib/python3.8/dist-packages (from jupyter-core->nbconvert->jupyter->d2l==1.0.0a0) (2.6.2)\n",
            "Requirement already satisfied: fastjsonschema in /usr/local/lib/python3.8/dist-packages (from nbformat>=4.4->nbconvert->jupyter->d2l==1.0.0a0) (2.16.2)\n",
            "Requirement already satisfied: jsonschema>=2.6 in /usr/local/lib/python3.8/dist-packages (from nbformat>=4.4->nbconvert->jupyter->d2l==1.0.0a0) (4.3.3)\n",
            "Requirement already satisfied: wcwidth in /usr/local/lib/python3.8/dist-packages (from prompt-toolkit!=3.0.0,!=3.0.1,<3.1.0,>=2.0.0->jupyter-console->jupyter->d2l==1.0.0a0) (0.2.6)\n",
            "Requirement already satisfied: packaging in /usr/local/lib/python3.8/dist-packages (from qtpy>=2.0.1->qtconsole->jupyter->d2l==1.0.0a0) (23.0)\n",
            "Requirement already satisfied: ptyprocess in /usr/local/lib/python3.8/dist-packages (from terminado>=0.8.1->notebook->jupyter->d2l==1.0.0a0) (0.7.0)\n",
            "Requirement already satisfied: webencodings in /usr/local/lib/python3.8/dist-packages (from bleach->nbconvert->jupyter->d2l==1.0.0a0) (0.5.1)\n",
            "Requirement already satisfied: parso<0.9.0,>=0.8.0 in /usr/local/lib/python3.8/dist-packages (from jedi>=0.10->ipython>=5.0.0->ipykernel->jupyter->d2l==1.0.0a0) (0.8.3)\n",
            "Requirement already satisfied: pyrsistent!=0.17.0,!=0.17.1,!=0.17.2,>=0.14.0 in /usr/local/lib/python3.8/dist-packages (from jsonschema>=2.6->nbformat>=4.4->nbconvert->jupyter->d2l==1.0.0a0) (0.19.3)\n",
            "Requirement already satisfied: importlib-resources>=1.4.0 in /usr/local/lib/python3.8/dist-packages (from jsonschema>=2.6->nbformat>=4.4->nbconvert->jupyter->d2l==1.0.0a0) (5.10.2)\n",
            "Requirement already satisfied: attrs>=17.4.0 in /usr/local/lib/python3.8/dist-packages (from jsonschema>=2.6->nbformat>=4.4->nbconvert->jupyter->d2l==1.0.0a0) (22.2.0)\n",
            "Installing collected packages: d2l\n",
            "  Attempting uninstall: d2l\n",
            "    Found existing installation: d2l 0.14.2\n",
            "    Uninstalling d2l-0.14.2:\n",
            "      Successfully uninstalled d2l-0.14.2\n",
            "Successfully installed d2l-1.0.0a0\n"
          ]
        }
      ],
      "source": [
        "import torch\n",
        "!pip install d2l==0.14.2 \n",
        "!pip install -U mxnet-cu101mkl==1.6.0\n",
        "!pip install --upgrade d2l==1.0.0a0"
      ]
    },
    {
      "cell_type": "code",
      "execution_count": 3,
      "metadata": {
        "colab": {
          "base_uri": "https://localhost:8080/"
        },
        "id": "vKuUY_WzndpQ",
        "outputId": "0f1f076a-050b-4b66-95bd-d39908d6c7f4"
      },
      "outputs": [
        {
          "output_type": "stream",
          "name": "stdout",
          "text": [
            "Name: d2l\n",
            "Version: 1.0.0a0\n",
            "Summary: Dive into Deep Learning\n",
            "Home-page: https://d2l.ai\n",
            "Author: D2L Developers\n",
            "Author-email: d2l.devs@gmail.com\n",
            "License: MIT-0\n",
            "Location: /usr/local/lib/python3.8/dist-packages\n",
            "Requires: gym, jupyter, matplotlib, numpy, pandas, requests\n",
            "Required-by: \n"
          ]
        }
      ],
      "source": [
        "!pip show d2l"
      ]
    },
    {
      "cell_type": "code",
      "execution_count": 4,
      "metadata": {
        "colab": {
          "base_uri": "https://localhost:8080/"
        },
        "id": "Rh_cCB9p0ldz",
        "outputId": "5f732ac4-b89f-4d66-f188-e14d1c383a24"
      },
      "outputs": [
        {
          "output_type": "stream",
          "name": "stdout",
          "text": [
            "Looking in indexes: https://pypi.org/simple, https://us-python.pkg.dev/colab-wheels/public/simple/\n",
            "Requirement already satisfied: matplotlib in /usr/local/lib/python3.8/dist-packages (3.2.2)\n",
            "Requirement already satisfied: pyparsing!=2.0.4,!=2.1.2,!=2.1.6,>=2.0.1 in /usr/local/lib/python3.8/dist-packages (from matplotlib) (3.0.9)\n",
            "Requirement already satisfied: numpy>=1.11 in /usr/local/lib/python3.8/dist-packages (from matplotlib) (1.21.6)\n",
            "Requirement already satisfied: kiwisolver>=1.0.1 in /usr/local/lib/python3.8/dist-packages (from matplotlib) (1.4.4)\n",
            "Requirement already satisfied: python-dateutil>=2.1 in /usr/local/lib/python3.8/dist-packages (from matplotlib) (2.8.2)\n",
            "Requirement already satisfied: cycler>=0.10 in /usr/local/lib/python3.8/dist-packages (from matplotlib) (0.11.0)\n",
            "Requirement already satisfied: six>=1.5 in /usr/local/lib/python3.8/dist-packages (from python-dateutil>=2.1->matplotlib) (1.15.0)\n",
            "Looking in indexes: https://pypi.org/simple, https://us-python.pkg.dev/colab-wheels/public/simple/\n",
            "Requirement already satisfied: matplotlib in /usr/local/lib/python3.8/dist-packages (3.2.2)\n",
            "Requirement already satisfied: numpy>=1.11 in /usr/local/lib/python3.8/dist-packages (from matplotlib) (1.21.6)\n",
            "Requirement already satisfied: kiwisolver>=1.0.1 in /usr/local/lib/python3.8/dist-packages (from matplotlib) (1.4.4)\n",
            "Requirement already satisfied: pyparsing!=2.0.4,!=2.1.2,!=2.1.6,>=2.0.1 in /usr/local/lib/python3.8/dist-packages (from matplotlib) (3.0.9)\n",
            "Requirement already satisfied: cycler>=0.10 in /usr/local/lib/python3.8/dist-packages (from matplotlib) (0.11.0)\n",
            "Requirement already satisfied: python-dateutil>=2.1 in /usr/local/lib/python3.8/dist-packages (from matplotlib) (2.8.2)\n",
            "Requirement already satisfied: six>=1.5 in /usr/local/lib/python3.8/dist-packages (from python-dateutil>=2.1->matplotlib) (1.15.0)\n"
          ]
        }
      ],
      "source": [
        "!pip install matplotlib\n",
        "import sys\n",
        "!{sys.executable} -m pip install matplotlib"
      ]
    },
    {
      "cell_type": "code",
      "execution_count": 5,
      "metadata": {
        "colab": {
          "base_uri": "https://localhost:8080/"
        },
        "id": "_bIatD1T0Pf-",
        "outputId": "2ee86817-dd33-433c-e555-5623538317d1"
      },
      "outputs": [
        {
          "output_type": "stream",
          "name": "stdout",
          "text": [
            "Looking in indexes: https://pypi.org/simple, https://us-python.pkg.dev/colab-wheels/public/simple/\n",
            "Collecting matplotlib-inline\n",
            "  Downloading matplotlib_inline-0.1.6-py3-none-any.whl (9.4 kB)\n",
            "Requirement already satisfied: traitlets in /usr/local/lib/python3.8/dist-packages (from matplotlib-inline) (5.7.1)\n",
            "Installing collected packages: matplotlib-inline\n",
            "Successfully installed matplotlib-inline-0.1.6\n"
          ]
        }
      ],
      "source": [
        "%matplotlib inline\n",
        "!pip install matplotlib-inline"
      ]
    },
    {
      "cell_type": "code",
      "execution_count": 6,
      "metadata": {
        "id": "MPII_zcn9uXS"
      },
      "outputs": [],
      "source": [
        "import time\n",
        "import numpy as np\n",
        "import torch\n",
        "import torchvision\n",
        "from torchvision import transforms\n",
        "from torch import nn\n",
        "from d2l import torch as d2l\n",
        "\n",
        "d2l.use_svg_display()"
      ]
    },
    {
      "cell_type": "code",
      "source": [
        "class FashionMNIST(d2l.DataModule): \n",
        "    def __init__(self, batch_size=64, resize=(28, 28)):\n",
        "        super().__init__()\n",
        "        self.save_hyperparameters()\n",
        "        trans = transforms.Compose([transforms.Resize(resize),\n",
        "                                    transforms.ToTensor()])\n",
        "        self.train = torchvision.datasets.FashionMNIST(\n",
        "            root=self.root, train=True, transform=trans, download=True)\n",
        "        self.val = torchvision.datasets.FashionMNIST(\n",
        "            root=self.root, train=False, transform=trans, download=True)"
      ],
      "metadata": {
        "id": "8LElI5a5YTht"
      },
      "execution_count": 7,
      "outputs": []
    },
    {
      "cell_type": "code",
      "source": [
        "data = FashionMNIST(resize=(32, 32))\n",
        "len(data.train), len(data.val)"
      ],
      "metadata": {
        "colab": {
          "base_uri": "https://localhost:8080/",
          "height": 453,
          "referenced_widgets": [
            "74f18b69ba074d239ddf5e80a37b86f7",
            "686c6e0f32c24ac4a2f7294a00c37764",
            "3686784c058d4dbfbafb2b8462a563ad",
            "dd416724069f4b80972f9aa4237ff9d2",
            "1b261d9a181b46a99b8ed3180bdc2ae4",
            "ea0858224db04f31b4ef9571e4ea153e",
            "53c5cc7163394ee8ac216ba5a60097a7",
            "1c8c642957004882a2e033541cf6c212",
            "fdfbcbf901aa4e98b4494a00f40d480a",
            "7c0ba9374f6b44c2b190ffb5ae11e591",
            "9047339424b34ae182de9d8cecdcc7a5",
            "706b3ce6b45143deba9330bcb782200a",
            "8263e9d264af49339f2522a0352866ab",
            "bf129930c22440ba99c8419edb45a9a9",
            "0e2b84f7fefb4f1d8de0663b6404c4b4",
            "2ac13ea4597240199f8c24d229c0f20c",
            "ccdc82724d0c44d08a1b72270efe5704",
            "448b0e38a1ff4f1299cf12909effe768",
            "d669327afe9440a088e5e5586bc3d7c4",
            "9397e531eb3f42aaaed7a2cd8d466945",
            "e0f45be92568480ab6b5921018116f26",
            "9cf218c86a8149f1b2b29a6dff2e1de3",
            "c459e89a44d6436b8d64e9faea1bcad6",
            "43be9e88530c45fd81ceac36aec237f7",
            "fe578ca1441d43ab80bdb132abcad5d0",
            "3a251771ee28412687aaafcc32faa9d5",
            "baf8c25c2f254703bbed4e62a7cb12d7",
            "2d5274e72ec64e3ab3e61ef83f3c0f4a",
            "184604723b034b7ba51800fb36e32e40",
            "207957703ba6481f9f9312dd25becb04",
            "dfb16dce62a74bbba924356ca6dd3d07",
            "9f1177ec498b49eb87caa31281ab1466",
            "1c6053eaadcb48cfbb8f78e117db2eca",
            "a2fbd8f861484d9e945897b8f5d2d7b3",
            "3c4ffa0a181f41a0a12b427ce4f46a2d",
            "bb9e25c2a0fa40b98059c3eb3487da98",
            "c0ba8fbe24c34c48a699eb5806c9c21e",
            "e0fe497d677347959bff72f9048ae8b4",
            "e66fcc3be6d4449e84f5d9477218ade9",
            "4ff331087a57424ca95a356385e0c840",
            "595adc55648c4fa7a001b63de94333b8",
            "008bbe49f5ee46b6a3cae4d5868973b2",
            "07c7583544604c21ab6266349064d5a8",
            "d92cd157ad13423887d6ba5eaf80ef14"
          ]
        },
        "id": "D15_LmVyE1YZ",
        "outputId": "38647f42-9583-4185-f2cc-184b91709478"
      },
      "execution_count": 8,
      "outputs": [
        {
          "output_type": "stream",
          "name": "stdout",
          "text": [
            "Downloading http://fashion-mnist.s3-website.eu-central-1.amazonaws.com/train-images-idx3-ubyte.gz\n",
            "Downloading http://fashion-mnist.s3-website.eu-central-1.amazonaws.com/train-images-idx3-ubyte.gz to ../data/FashionMNIST/raw/train-images-idx3-ubyte.gz\n"
          ]
        },
        {
          "output_type": "display_data",
          "data": {
            "text/plain": [
              "  0%|          | 0/26421880 [00:00<?, ?it/s]"
            ],
            "application/vnd.jupyter.widget-view+json": {
              "version_major": 2,
              "version_minor": 0,
              "model_id": "74f18b69ba074d239ddf5e80a37b86f7"
            }
          },
          "metadata": {}
        },
        {
          "output_type": "stream",
          "name": "stdout",
          "text": [
            "Extracting ../data/FashionMNIST/raw/train-images-idx3-ubyte.gz to ../data/FashionMNIST/raw\n",
            "\n",
            "Downloading http://fashion-mnist.s3-website.eu-central-1.amazonaws.com/train-labels-idx1-ubyte.gz\n",
            "Downloading http://fashion-mnist.s3-website.eu-central-1.amazonaws.com/train-labels-idx1-ubyte.gz to ../data/FashionMNIST/raw/train-labels-idx1-ubyte.gz\n"
          ]
        },
        {
          "output_type": "display_data",
          "data": {
            "text/plain": [
              "  0%|          | 0/29515 [00:00<?, ?it/s]"
            ],
            "application/vnd.jupyter.widget-view+json": {
              "version_major": 2,
              "version_minor": 0,
              "model_id": "706b3ce6b45143deba9330bcb782200a"
            }
          },
          "metadata": {}
        },
        {
          "output_type": "stream",
          "name": "stdout",
          "text": [
            "Extracting ../data/FashionMNIST/raw/train-labels-idx1-ubyte.gz to ../data/FashionMNIST/raw\n",
            "\n",
            "Downloading http://fashion-mnist.s3-website.eu-central-1.amazonaws.com/t10k-images-idx3-ubyte.gz\n",
            "Downloading http://fashion-mnist.s3-website.eu-central-1.amazonaws.com/t10k-images-idx3-ubyte.gz to ../data/FashionMNIST/raw/t10k-images-idx3-ubyte.gz\n"
          ]
        },
        {
          "output_type": "display_data",
          "data": {
            "text/plain": [
              "  0%|          | 0/4422102 [00:00<?, ?it/s]"
            ],
            "application/vnd.jupyter.widget-view+json": {
              "version_major": 2,
              "version_minor": 0,
              "model_id": "c459e89a44d6436b8d64e9faea1bcad6"
            }
          },
          "metadata": {}
        },
        {
          "output_type": "stream",
          "name": "stdout",
          "text": [
            "Extracting ../data/FashionMNIST/raw/t10k-images-idx3-ubyte.gz to ../data/FashionMNIST/raw\n",
            "\n",
            "Downloading http://fashion-mnist.s3-website.eu-central-1.amazonaws.com/t10k-labels-idx1-ubyte.gz\n",
            "Downloading http://fashion-mnist.s3-website.eu-central-1.amazonaws.com/t10k-labels-idx1-ubyte.gz to ../data/FashionMNIST/raw/t10k-labels-idx1-ubyte.gz\n"
          ]
        },
        {
          "output_type": "display_data",
          "data": {
            "text/plain": [
              "  0%|          | 0/5148 [00:00<?, ?it/s]"
            ],
            "application/vnd.jupyter.widget-view+json": {
              "version_major": 2,
              "version_minor": 0,
              "model_id": "a2fbd8f861484d9e945897b8f5d2d7b3"
            }
          },
          "metadata": {}
        },
        {
          "output_type": "stream",
          "name": "stdout",
          "text": [
            "Extracting ../data/FashionMNIST/raw/t10k-labels-idx1-ubyte.gz to ../data/FashionMNIST/raw\n",
            "\n"
          ]
        },
        {
          "output_type": "execute_result",
          "data": {
            "text/plain": [
              "(60000, 10000)"
            ]
          },
          "metadata": {},
          "execution_count": 8
        }
      ]
    },
    {
      "cell_type": "code",
      "source": [
        "@d2l.add_to_class(FashionMNIST)  \n",
        "def text_labels(self, indices):\n",
        "    \"\"\"Return text labels.\"\"\"\n",
        "    labels = ['t-shirt', 'trouser', 'pullover', 'dress', 'coat',\n",
        "              'sandal', 'shirt', 'sneaker', 'bag', 'ankle boot']\n",
        "    return [labels[int(i)] for i in indices]"
      ],
      "metadata": {
        "id": "G1vdQOqJYT6Z"
      },
      "execution_count": 9,
      "outputs": []
    },
    {
      "cell_type": "code",
      "source": [
        "@d2l.add_to_class(FashionMNIST)  \n",
        "def get_dataloader(self, train):\n",
        "    data = self.train if train else self.val\n",
        "    return torch.utils.data.DataLoader(data, self.batch_size, shuffle=train,\n",
        "                                       num_workers=self.num_workers)"
      ],
      "metadata": {
        "id": "Z8uP-7ScY5BW"
      },
      "execution_count": 10,
      "outputs": []
    },
    {
      "cell_type": "code",
      "source": [
        "def show_images(imgs, num_rows, num_cols, titles=None, scale=1.5): \n",
        "    \"\"\"Plot a list of images.\"\"\"\n",
        "    raise NotImplementedError"
      ],
      "metadata": {
        "id": "bF2nKBh6rvtL"
      },
      "execution_count": 11,
      "outputs": []
    },
    {
      "cell_type": "code",
      "source": [
        "@d2l.add_to_class(FashionMNIST) \n",
        "def visualize(self, batch, nrows=1, ncols=8, labels=[]):\n",
        "    X, y = batch\n",
        "    if not labels:\n",
        "        labels = self.text_labels(y)\n",
        "    d2l.show_images(X.squeeze(1), nrows, ncols, titles=labels)\n",
        "batch = next(iter(data.val_dataloader()))\n",
        "data.visualize(batch)"
      ],
      "metadata": {
        "colab": {
          "base_uri": "https://localhost:8080/",
          "height": 216
        },
        "id": "h2bSOjugrv74",
        "outputId": "719b34ca-e259-4cf9-adc4-0ff7c0b38167"
      },
      "execution_count": 12,
      "outputs": [
        {
          "output_type": "stream",
          "name": "stderr",
          "text": [
            "/usr/local/lib/python3.8/dist-packages/torch/utils/data/dataloader.py:554: UserWarning: This DataLoader will create 4 worker processes in total. Our suggested max number of worker in current system is 2, which is smaller than what this DataLoader is going to create. Please be aware that excessive worker creation might get DataLoader running slow or even freeze, lower the worker number to avoid potential slowness/freeze if necessary.\n",
            "  warnings.warn(_create_warning_msg(\n"
          ]
        },
        {
          "output_type": "display_data",
          "data": {
            "text/plain": [
              "<Figure size 864x108 with 8 Axes>"
            ],
            "image/svg+xml": "<?xml version=\"1.0\" encoding=\"utf-8\" standalone=\"no\"?>\n<!DOCTYPE svg PUBLIC \"-//W3C//DTD SVG 1.1//EN\"\n  \"http://www.w3.org/Graphics/SVG/1.1/DTD/svg11.dtd\">\n<!-- Created with matplotlib (https://matplotlib.org/) -->\n<svg height=\"104.252168pt\" version=\"1.1\" viewBox=\"0 0 687.5 104.252168\" width=\"687.5pt\" xmlns=\"http://www.w3.org/2000/svg\" xmlns:xlink=\"http://www.w3.org/1999/xlink\">\n <defs>\n  <style type=\"text/css\">\n*{stroke-linecap:butt;stroke-linejoin:round;}\n  </style>\n </defs>\n <g id=\"figure_1\">\n  <g id=\"patch_1\">\n   <path d=\"M 0 104.252168 \nL 687.5 104.252168 \nL 687.5 0 \nL 0 0 \nz\n\" style=\"fill:none;\"/>\n  </g>\n  <g id=\"axes_1\">\n   <g id=\"patch_2\">\n    <path d=\"M 10.7 93.552168 \nL 81.934043 93.552168 \nL 81.934043 22.318125 \nL 10.7 22.318125 \nz\n\" style=\"fill:#ffffff;\"/>\n   </g>\n   <g clip-path=\"url(#pa5e40699d3)\">\n    <image height=\"72\" id=\"image35fa5c3d3a\" transform=\"scale(1 -1)translate(0 -72)\" width=\"72\" x=\"10.7\" xlink:href=\"data:image/png;base64,\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\" y=\"-21.552168\"/>\n   </g>\n   <g id=\"patch_3\">\n    <path d=\"M 10.7 93.552168 \nL 10.7 22.318125 \n\" style=\"fill:none;stroke:#000000;stroke-linecap:square;stroke-linejoin:miter;stroke-width:0.8;\"/>\n   </g>\n   <g id=\"patch_4\">\n    <path d=\"M 81.934043 93.552168 \nL 81.934043 22.318125 \n\" style=\"fill:none;stroke:#000000;stroke-linecap:square;stroke-linejoin:miter;stroke-width:0.8;\"/>\n   </g>\n   <g id=\"patch_5\">\n    <path d=\"M 10.7 93.552168 \nL 81.934043 93.552168 \n\" style=\"fill:none;stroke:#000000;stroke-linecap:square;stroke-linejoin:miter;stroke-width:0.8;\"/>\n   </g>\n   <g id=\"patch_6\">\n    <path d=\"M 10.7 22.318125 \nL 81.934043 22.318125 \n\" style=\"fill:none;stroke:#000000;stroke-linecap:square;stroke-linejoin:miter;stroke-width:0.8;\"/>\n   </g>\n   <g id=\"text_1\">\n    <!-- ankle boot -->\n    <defs>\n     <path d=\"M 34.28125 27.484375 \nQ 23.390625 27.484375 19.1875 25 \nQ 14.984375 22.515625 14.984375 16.5 \nQ 14.984375 11.71875 18.140625 8.90625 \nQ 21.296875 6.109375 26.703125 6.109375 \nQ 34.1875 6.109375 38.703125 11.40625 \nQ 43.21875 16.703125 43.21875 25.484375 \nL 43.21875 27.484375 \nz\nM 52.203125 31.203125 \nL 52.203125 0 \nL 43.21875 0 \nL 43.21875 8.296875 \nQ 40.140625 3.328125 35.546875 0.953125 \nQ 30.953125 -1.421875 24.3125 -1.421875 \nQ 15.921875 -1.421875 10.953125 3.296875 \nQ 6 8.015625 6 15.921875 \nQ 6 25.140625 12.171875 29.828125 \nQ 18.359375 34.515625 30.609375 34.515625 \nL 43.21875 34.515625 \nL 43.21875 35.40625 \nQ 43.21875 41.609375 39.140625 45 \nQ 35.0625 48.390625 27.6875 48.390625 \nQ 23 48.390625 18.546875 47.265625 \nQ 14.109375 46.140625 10.015625 43.890625 \nL 10.015625 52.203125 \nQ 14.9375 54.109375 19.578125 55.046875 \nQ 24.21875 56 28.609375 56 \nQ 40.484375 56 46.34375 49.84375 \nQ 52.203125 43.703125 52.203125 31.203125 \nz\n\" id=\"DejaVuSans-97\"/>\n     <path d=\"M 54.890625 33.015625 \nL 54.890625 0 \nL 45.90625 0 \nL 45.90625 32.71875 \nQ 45.90625 40.484375 42.875 44.328125 \nQ 39.84375 48.1875 33.796875 48.1875 \nQ 26.515625 48.1875 22.3125 43.546875 \nQ 18.109375 38.921875 18.109375 30.90625 \nL 18.109375 0 \nL 9.078125 0 \nL 9.078125 54.6875 \nL 18.109375 54.6875 \nL 18.109375 46.1875 \nQ 21.34375 51.125 25.703125 53.5625 \nQ 30.078125 56 35.796875 56 \nQ 45.21875 56 50.046875 50.171875 \nQ 54.890625 44.34375 54.890625 33.015625 \nz\n\" id=\"DejaVuSans-110\"/>\n     <path d=\"M 9.078125 75.984375 \nL 18.109375 75.984375 \nL 18.109375 31.109375 \nL 44.921875 54.6875 \nL 56.390625 54.6875 \nL 27.390625 29.109375 \nL 57.625 0 \nL 45.90625 0 \nL 18.109375 26.703125 \nL 18.109375 0 \nL 9.078125 0 \nz\n\" id=\"DejaVuSans-107\"/>\n     <path d=\"M 9.421875 75.984375 \nL 18.40625 75.984375 \nL 18.40625 0 \nL 9.421875 0 \nz\n\" id=\"DejaVuSans-108\"/>\n     <path d=\"M 56.203125 29.59375 \nL 56.203125 25.203125 \nL 14.890625 25.203125 \nQ 15.484375 15.921875 20.484375 11.0625 \nQ 25.484375 6.203125 34.421875 6.203125 \nQ 39.59375 6.203125 44.453125 7.46875 \nQ 49.3125 8.734375 54.109375 11.28125 \nL 54.109375 2.78125 \nQ 49.265625 0.734375 44.1875 -0.34375 \nQ 39.109375 -1.421875 33.890625 -1.421875 \nQ 20.796875 -1.421875 13.15625 6.1875 \nQ 5.515625 13.8125 5.515625 26.8125 \nQ 5.515625 40.234375 12.765625 48.109375 \nQ 20.015625 56 32.328125 56 \nQ 43.359375 56 49.78125 48.890625 \nQ 56.203125 41.796875 56.203125 29.59375 \nz\nM 47.21875 32.234375 \nQ 47.125 39.59375 43.09375 43.984375 \nQ 39.0625 48.390625 32.421875 48.390625 \nQ 24.90625 48.390625 20.390625 44.140625 \nQ 15.875 39.890625 15.1875 32.171875 \nz\n\" id=\"DejaVuSans-101\"/>\n     <path id=\"DejaVuSans-32\"/>\n     <path d=\"M 48.6875 27.296875 \nQ 48.6875 37.203125 44.609375 42.84375 \nQ 40.53125 48.484375 33.40625 48.484375 \nQ 26.265625 48.484375 22.1875 42.84375 \nQ 18.109375 37.203125 18.109375 27.296875 \nQ 18.109375 17.390625 22.1875 11.75 \nQ 26.265625 6.109375 33.40625 6.109375 \nQ 40.53125 6.109375 44.609375 11.75 \nQ 48.6875 17.390625 48.6875 27.296875 \nz\nM 18.109375 46.390625 \nQ 20.953125 51.265625 25.265625 53.625 \nQ 29.59375 56 35.59375 56 \nQ 45.5625 56 51.78125 48.09375 \nQ 58.015625 40.1875 58.015625 27.296875 \nQ 58.015625 14.40625 51.78125 6.484375 \nQ 45.5625 -1.421875 35.59375 -1.421875 \nQ 29.59375 -1.421875 25.265625 0.953125 \nQ 20.953125 3.328125 18.109375 8.203125 \nL 18.109375 0 \nL 9.078125 0 \nL 9.078125 75.984375 \nL 18.109375 75.984375 \nz\n\" id=\"DejaVuSans-98\"/>\n     <path d=\"M 30.609375 48.390625 \nQ 23.390625 48.390625 19.1875 42.75 \nQ 14.984375 37.109375 14.984375 27.296875 \nQ 14.984375 17.484375 19.15625 11.84375 \nQ 23.34375 6.203125 30.609375 6.203125 \nQ 37.796875 6.203125 41.984375 11.859375 \nQ 46.1875 17.53125 46.1875 27.296875 \nQ 46.1875 37.015625 41.984375 42.703125 \nQ 37.796875 48.390625 30.609375 48.390625 \nz\nM 30.609375 56 \nQ 42.328125 56 49.015625 48.375 \nQ 55.71875 40.765625 55.71875 27.296875 \nQ 55.71875 13.875 49.015625 6.21875 \nQ 42.328125 -1.421875 30.609375 -1.421875 \nQ 18.84375 -1.421875 12.171875 6.21875 \nQ 5.515625 13.875 5.515625 27.296875 \nQ 5.515625 40.765625 12.171875 48.375 \nQ 18.84375 56 30.609375 56 \nz\n\" id=\"DejaVuSans-111\"/>\n     <path d=\"M 18.3125 70.21875 \nL 18.3125 54.6875 \nL 36.8125 54.6875 \nL 36.8125 47.703125 \nL 18.3125 47.703125 \nL 18.3125 18.015625 \nQ 18.3125 11.328125 20.140625 9.421875 \nQ 21.96875 7.515625 27.59375 7.515625 \nL 36.8125 7.515625 \nL 36.8125 0 \nL 27.59375 0 \nQ 17.1875 0 13.234375 3.875 \nQ 9.28125 7.765625 9.28125 18.015625 \nL 9.28125 47.703125 \nL 2.6875 47.703125 \nL 2.6875 54.6875 \nL 9.28125 54.6875 \nL 9.28125 70.21875 \nz\n\" id=\"DejaVuSans-116\"/>\n    </defs>\n    <g transform=\"translate(14.593896 16.318125)scale(0.12 -0.12)\">\n     <use xlink:href=\"#DejaVuSans-97\"/>\n     <use x=\"61.279297\" xlink:href=\"#DejaVuSans-110\"/>\n     <use x=\"124.658203\" xlink:href=\"#DejaVuSans-107\"/>\n     <use x=\"182.568359\" xlink:href=\"#DejaVuSans-108\"/>\n     <use x=\"210.351562\" xlink:href=\"#DejaVuSans-101\"/>\n     <use x=\"271.875\" xlink:href=\"#DejaVuSans-32\"/>\n     <use x=\"303.662109\" xlink:href=\"#DejaVuSans-98\"/>\n     <use x=\"367.138672\" xlink:href=\"#DejaVuSans-111\"/>\n     <use x=\"428.320312\" xlink:href=\"#DejaVuSans-111\"/>\n     <use x=\"489.501953\" xlink:href=\"#DejaVuSans-116\"/>\n    </g>\n   </g>\n  </g>\n  <g id=\"axes_2\">\n   <g id=\"patch_7\">\n    <path d=\"M 96.180851 93.552168 \nL 167.414894 93.552168 \nL 167.414894 22.318125 \nL 96.180851 22.318125 \nz\n\" style=\"fill:#ffffff;\"/>\n   </g>\n   <g clip-path=\"url(#pfa2ada7835)\">\n    <image height=\"72\" id=\"image87d704374a\" transform=\"scale(1 -1)translate(0 -72)\" width=\"72\" x=\"96.180851\" xlink:href=\"data:image/png;base64,\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\" y=\"-21.552168\"/>\n   </g>\n   <g id=\"patch_8\">\n    <path d=\"M 96.180851 93.552168 \nL 96.180851 22.318125 \n\" style=\"fill:none;stroke:#000000;stroke-linecap:square;stroke-linejoin:miter;stroke-width:0.8;\"/>\n   </g>\n   <g id=\"patch_9\">\n    <path d=\"M 167.414894 93.552168 \nL 167.414894 22.318125 \n\" style=\"fill:none;stroke:#000000;stroke-linecap:square;stroke-linejoin:miter;stroke-width:0.8;\"/>\n   </g>\n   <g id=\"patch_10\">\n    <path d=\"M 96.180851 93.552168 \nL 167.414894 93.552168 \n\" style=\"fill:none;stroke:#000000;stroke-linecap:square;stroke-linejoin:miter;stroke-width:0.8;\"/>\n   </g>\n   <g id=\"patch_11\">\n    <path d=\"M 96.180851 22.318125 \nL 167.414894 22.318125 \n\" style=\"fill:none;stroke:#000000;stroke-linecap:square;stroke-linejoin:miter;stroke-width:0.8;\"/>\n   </g>\n   <g id=\"text_2\">\n    <!-- pullover -->\n    <defs>\n     <path d=\"M 18.109375 8.203125 \nL 18.109375 -20.796875 \nL 9.078125 -20.796875 \nL 9.078125 54.6875 \nL 18.109375 54.6875 \nL 18.109375 46.390625 \nQ 20.953125 51.265625 25.265625 53.625 \nQ 29.59375 56 35.59375 56 \nQ 45.5625 56 51.78125 48.09375 \nQ 58.015625 40.1875 58.015625 27.296875 \nQ 58.015625 14.40625 51.78125 6.484375 \nQ 45.5625 -1.421875 35.59375 -1.421875 \nQ 29.59375 -1.421875 25.265625 0.953125 \nQ 20.953125 3.328125 18.109375 8.203125 \nz\nM 48.6875 27.296875 \nQ 48.6875 37.203125 44.609375 42.84375 \nQ 40.53125 48.484375 33.40625 48.484375 \nQ 26.265625 48.484375 22.1875 42.84375 \nQ 18.109375 37.203125 18.109375 27.296875 \nQ 18.109375 17.390625 22.1875 11.75 \nQ 26.265625 6.109375 33.40625 6.109375 \nQ 40.53125 6.109375 44.609375 11.75 \nQ 48.6875 17.390625 48.6875 27.296875 \nz\n\" id=\"DejaVuSans-112\"/>\n     <path d=\"M 8.5 21.578125 \nL 8.5 54.6875 \nL 17.484375 54.6875 \nL 17.484375 21.921875 \nQ 17.484375 14.15625 20.5 10.265625 \nQ 23.53125 6.390625 29.59375 6.390625 \nQ 36.859375 6.390625 41.078125 11.03125 \nQ 45.3125 15.671875 45.3125 23.6875 \nL 45.3125 54.6875 \nL 54.296875 54.6875 \nL 54.296875 0 \nL 45.3125 0 \nL 45.3125 8.40625 \nQ 42.046875 3.421875 37.71875 1 \nQ 33.40625 -1.421875 27.6875 -1.421875 \nQ 18.265625 -1.421875 13.375 4.4375 \nQ 8.5 10.296875 8.5 21.578125 \nz\nM 31.109375 56 \nz\n\" id=\"DejaVuSans-117\"/>\n     <path d=\"M 2.984375 54.6875 \nL 12.5 54.6875 \nL 29.59375 8.796875 \nL 46.6875 54.6875 \nL 56.203125 54.6875 \nL 35.6875 0 \nL 23.484375 0 \nz\n\" id=\"DejaVuSans-118\"/>\n     <path d=\"M 41.109375 46.296875 \nQ 39.59375 47.171875 37.8125 47.578125 \nQ 36.03125 48 33.890625 48 \nQ 26.265625 48 22.1875 43.046875 \nQ 18.109375 38.09375 18.109375 28.8125 \nL 18.109375 0 \nL 9.078125 0 \nL 9.078125 54.6875 \nL 18.109375 54.6875 \nL 18.109375 46.1875 \nQ 20.953125 51.171875 25.484375 53.578125 \nQ 30.03125 56 36.53125 56 \nQ 37.453125 56 38.578125 55.875 \nQ 39.703125 55.765625 41.0625 55.515625 \nz\n\" id=\"DejaVuSans-114\"/>\n    </defs>\n    <g transform=\"translate(107.471622 16.318125)scale(0.12 -0.12)\">\n     <use xlink:href=\"#DejaVuSans-112\"/>\n     <use x=\"63.476562\" xlink:href=\"#DejaVuSans-117\"/>\n     <use x=\"126.855469\" xlink:href=\"#DejaVuSans-108\"/>\n     <use x=\"154.638672\" xlink:href=\"#DejaVuSans-108\"/>\n     <use x=\"182.421875\" xlink:href=\"#DejaVuSans-111\"/>\n     <use x=\"243.603516\" xlink:href=\"#DejaVuSans-118\"/>\n     <use x=\"302.783203\" xlink:href=\"#DejaVuSans-101\"/>\n     <use x=\"364.306641\" xlink:href=\"#DejaVuSans-114\"/>\n    </g>\n   </g>\n  </g>\n  <g id=\"axes_3\">\n   <g id=\"patch_12\">\n    <path d=\"M 181.661702 93.552168 \nL 252.895745 93.552168 \nL 252.895745 22.318125 \nL 181.661702 22.318125 \nz\n\" style=\"fill:#ffffff;\"/>\n   </g>\n   <g clip-path=\"url(#p6901b966c1)\">\n    <image height=\"72\" id=\"imagea21341bbf0\" transform=\"scale(1 -1)translate(0 -72)\" width=\"72\" x=\"181.661702\" xlink:href=\"data:image/png;base64,\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\" y=\"-21.552168\"/>\n   </g>\n   <g id=\"patch_13\">\n    <path d=\"M 181.661702 93.552168 \nL 181.661702 22.318125 \n\" style=\"fill:none;stroke:#000000;stroke-linecap:square;stroke-linejoin:miter;stroke-width:0.8;\"/>\n   </g>\n   <g id=\"patch_14\">\n    <path d=\"M 252.895745 93.552168 \nL 252.895745 22.318125 \n\" style=\"fill:none;stroke:#000000;stroke-linecap:square;stroke-linejoin:miter;stroke-width:0.8;\"/>\n   </g>\n   <g id=\"patch_15\">\n    <path d=\"M 181.661702 93.552168 \nL 252.895745 93.552168 \n\" style=\"fill:none;stroke:#000000;stroke-linecap:square;stroke-linejoin:miter;stroke-width:0.8;\"/>\n   </g>\n   <g id=\"patch_16\">\n    <path d=\"M 181.661702 22.318125 \nL 252.895745 22.318125 \n\" style=\"fill:none;stroke:#000000;stroke-linecap:square;stroke-linejoin:miter;stroke-width:0.8;\"/>\n   </g>\n   <g id=\"text_3\">\n    <!-- trouser -->\n    <defs>\n     <path d=\"M 44.28125 53.078125 \nL 44.28125 44.578125 \nQ 40.484375 46.53125 36.375 47.5 \nQ 32.28125 48.484375 27.875 48.484375 \nQ 21.1875 48.484375 17.84375 46.4375 \nQ 14.5 44.390625 14.5 40.28125 \nQ 14.5 37.15625 16.890625 35.375 \nQ 19.28125 33.59375 26.515625 31.984375 \nL 29.59375 31.296875 \nQ 39.15625 29.25 43.1875 25.515625 \nQ 47.21875 21.78125 47.21875 15.09375 \nQ 47.21875 7.46875 41.1875 3.015625 \nQ 35.15625 -1.421875 24.609375 -1.421875 \nQ 20.21875 -1.421875 15.453125 -0.5625 \nQ 10.6875 0.296875 5.421875 2 \nL 5.421875 11.28125 \nQ 10.40625 8.6875 15.234375 7.390625 \nQ 20.0625 6.109375 24.8125 6.109375 \nQ 31.15625 6.109375 34.5625 8.28125 \nQ 37.984375 10.453125 37.984375 14.40625 \nQ 37.984375 18.0625 35.515625 20.015625 \nQ 33.0625 21.96875 24.703125 23.78125 \nL 21.578125 24.515625 \nQ 13.234375 26.265625 9.515625 29.90625 \nQ 5.8125 33.546875 5.8125 39.890625 \nQ 5.8125 47.609375 11.28125 51.796875 \nQ 16.75 56 26.8125 56 \nQ 31.78125 56 36.171875 55.265625 \nQ 40.578125 54.546875 44.28125 53.078125 \nz\n\" id=\"DejaVuSans-115\"/>\n    </defs>\n    <g transform=\"translate(195.837161 16.318125)scale(0.12 -0.12)\">\n     <use xlink:href=\"#DejaVuSans-116\"/>\n     <use x=\"39.208984\" xlink:href=\"#DejaVuSans-114\"/>\n     <use x=\"78.072266\" xlink:href=\"#DejaVuSans-111\"/>\n     <use x=\"139.253906\" xlink:href=\"#DejaVuSans-117\"/>\n     <use x=\"202.632812\" xlink:href=\"#DejaVuSans-115\"/>\n     <use x=\"254.732422\" xlink:href=\"#DejaVuSans-101\"/>\n     <use x=\"316.255859\" xlink:href=\"#DejaVuSans-114\"/>\n    </g>\n   </g>\n  </g>\n  <g id=\"axes_4\">\n   <g id=\"patch_17\">\n    <path d=\"M 267.142553 93.552168 \nL 338.376596 93.552168 \nL 338.376596 22.318125 \nL 267.142553 22.318125 \nz\n\" style=\"fill:#ffffff;\"/>\n   </g>\n   <g clip-path=\"url(#p74924cdac7)\">\n    <image height=\"72\" id=\"imageac5eb50a92\" transform=\"scale(1 -1)translate(0 -72)\" width=\"72\" x=\"267.142553\" xlink:href=\"data:image/png;base64,\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\" y=\"-21.552168\"/>\n   </g>\n   <g id=\"patch_18\">\n    <path d=\"M 267.142553 93.552168 \nL 267.142553 22.318125 \n\" style=\"fill:none;stroke:#000000;stroke-linecap:square;stroke-linejoin:miter;stroke-width:0.8;\"/>\n   </g>\n   <g id=\"patch_19\">\n    <path d=\"M 338.376596 93.552168 \nL 338.376596 22.318125 \n\" style=\"fill:none;stroke:#000000;stroke-linecap:square;stroke-linejoin:miter;stroke-width:0.8;\"/>\n   </g>\n   <g id=\"patch_20\">\n    <path d=\"M 267.142553 93.552168 \nL 338.376596 93.552168 \n\" style=\"fill:none;stroke:#000000;stroke-linecap:square;stroke-linejoin:miter;stroke-width:0.8;\"/>\n   </g>\n   <g id=\"patch_21\">\n    <path d=\"M 267.142553 22.318125 \nL 338.376596 22.318125 \n\" style=\"fill:none;stroke:#000000;stroke-linecap:square;stroke-linejoin:miter;stroke-width:0.8;\"/>\n   </g>\n   <g id=\"text_4\">\n    <!-- trouser -->\n    <g transform=\"translate(281.318012 16.318125)scale(0.12 -0.12)\">\n     <use xlink:href=\"#DejaVuSans-116\"/>\n     <use x=\"39.208984\" xlink:href=\"#DejaVuSans-114\"/>\n     <use x=\"78.072266\" xlink:href=\"#DejaVuSans-111\"/>\n     <use x=\"139.253906\" xlink:href=\"#DejaVuSans-117\"/>\n     <use x=\"202.632812\" xlink:href=\"#DejaVuSans-115\"/>\n     <use x=\"254.732422\" xlink:href=\"#DejaVuSans-101\"/>\n     <use x=\"316.255859\" xlink:href=\"#DejaVuSans-114\"/>\n    </g>\n   </g>\n  </g>\n  <g id=\"axes_5\">\n   <g id=\"patch_22\">\n    <path d=\"M 352.623404 93.552168 \nL 423.857447 93.552168 \nL 423.857447 22.318125 \nL 352.623404 22.318125 \nz\n\" style=\"fill:#ffffff;\"/>\n   </g>\n   <g clip-path=\"url(#p8b1b03127a)\">\n    <image height=\"72\" id=\"image01b761f40c\" transform=\"scale(1 -1)translate(0 -72)\" width=\"72\" x=\"352.623404\" xlink:href=\"data:image/png;base64,\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\" y=\"-21.552168\"/>\n   </g>\n   <g id=\"patch_23\">\n    <path d=\"M 352.623404 93.552168 \nL 352.623404 22.318125 \n\" style=\"fill:none;stroke:#000000;stroke-linecap:square;stroke-linejoin:miter;stroke-width:0.8;\"/>\n   </g>\n   <g id=\"patch_24\">\n    <path d=\"M 423.857447 93.552168 \nL 423.857447 22.318125 \n\" style=\"fill:none;stroke:#000000;stroke-linecap:square;stroke-linejoin:miter;stroke-width:0.8;\"/>\n   </g>\n   <g id=\"patch_25\">\n    <path d=\"M 352.623404 93.552168 \nL 423.857447 93.552168 \n\" style=\"fill:none;stroke:#000000;stroke-linecap:square;stroke-linejoin:miter;stroke-width:0.8;\"/>\n   </g>\n   <g id=\"patch_26\">\n    <path d=\"M 352.623404 22.318125 \nL 423.857447 22.318125 \n\" style=\"fill:none;stroke:#000000;stroke-linecap:square;stroke-linejoin:miter;stroke-width:0.8;\"/>\n   </g>\n   <g id=\"text_5\">\n    <!-- shirt -->\n    <defs>\n     <path d=\"M 54.890625 33.015625 \nL 54.890625 0 \nL 45.90625 0 \nL 45.90625 32.71875 \nQ 45.90625 40.484375 42.875 44.328125 \nQ 39.84375 48.1875 33.796875 48.1875 \nQ 26.515625 48.1875 22.3125 43.546875 \nQ 18.109375 38.921875 18.109375 30.90625 \nL 18.109375 0 \nL 9.078125 0 \nL 9.078125 75.984375 \nL 18.109375 75.984375 \nL 18.109375 46.1875 \nQ 21.34375 51.125 25.703125 53.5625 \nQ 30.078125 56 35.796875 56 \nQ 45.21875 56 50.046875 50.171875 \nQ 54.890625 44.34375 54.890625 33.015625 \nz\n\" id=\"DejaVuSans-104\"/>\n     <path d=\"M 9.421875 54.6875 \nL 18.40625 54.6875 \nL 18.40625 0 \nL 9.421875 0 \nz\nM 9.421875 75.984375 \nL 18.40625 75.984375 \nL 18.40625 64.59375 \nL 9.421875 64.59375 \nz\n\" id=\"DejaVuSans-105\"/>\n    </defs>\n    <g transform=\"translate(374.826676 16.318125)scale(0.12 -0.12)\">\n     <use xlink:href=\"#DejaVuSans-115\"/>\n     <use x=\"52.099609\" xlink:href=\"#DejaVuSans-104\"/>\n     <use x=\"115.478516\" xlink:href=\"#DejaVuSans-105\"/>\n     <use x=\"143.261719\" xlink:href=\"#DejaVuSans-114\"/>\n     <use x=\"184.375\" xlink:href=\"#DejaVuSans-116\"/>\n    </g>\n   </g>\n  </g>\n  <g id=\"axes_6\">\n   <g id=\"patch_27\">\n    <path d=\"M 438.104255 93.552168 \nL 509.338298 93.552168 \nL 509.338298 22.318125 \nL 438.104255 22.318125 \nz\n\" style=\"fill:#ffffff;\"/>\n   </g>\n   <g clip-path=\"url(#p3076c6e8ff)\">\n    <image height=\"72\" id=\"image1aa772c894\" transform=\"scale(1 -1)translate(0 -72)\" width=\"72\" x=\"438.104255\" xlink:href=\"data:image/png;base64,\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\" y=\"-21.552168\"/>\n   </g>\n   <g id=\"patch_28\">\n    <path d=\"M 438.104255 93.552168 \nL 438.104255 22.318125 \n\" style=\"fill:none;stroke:#000000;stroke-linecap:square;stroke-linejoin:miter;stroke-width:0.8;\"/>\n   </g>\n   <g id=\"patch_29\">\n    <path d=\"M 509.338298 93.552168 \nL 509.338298 22.318125 \n\" style=\"fill:none;stroke:#000000;stroke-linecap:square;stroke-linejoin:miter;stroke-width:0.8;\"/>\n   </g>\n   <g id=\"patch_30\">\n    <path d=\"M 438.104255 93.552168 \nL 509.338298 93.552168 \n\" style=\"fill:none;stroke:#000000;stroke-linecap:square;stroke-linejoin:miter;stroke-width:0.8;\"/>\n   </g>\n   <g id=\"patch_31\">\n    <path d=\"M 438.104255 22.318125 \nL 509.338298 22.318125 \n\" style=\"fill:none;stroke:#000000;stroke-linecap:square;stroke-linejoin:miter;stroke-width:0.8;\"/>\n   </g>\n   <g id=\"text_6\">\n    <!-- trouser -->\n    <g transform=\"translate(452.279714 16.318125)scale(0.12 -0.12)\">\n     <use xlink:href=\"#DejaVuSans-116\"/>\n     <use x=\"39.208984\" xlink:href=\"#DejaVuSans-114\"/>\n     <use x=\"78.072266\" xlink:href=\"#DejaVuSans-111\"/>\n     <use x=\"139.253906\" xlink:href=\"#DejaVuSans-117\"/>\n     <use x=\"202.632812\" xlink:href=\"#DejaVuSans-115\"/>\n     <use x=\"254.732422\" xlink:href=\"#DejaVuSans-101\"/>\n     <use x=\"316.255859\" xlink:href=\"#DejaVuSans-114\"/>\n    </g>\n   </g>\n  </g>\n  <g id=\"axes_7\">\n   <g id=\"patch_32\">\n    <path d=\"M 523.585106 93.552168 \nL 594.819149 93.552168 \nL 594.819149 22.318125 \nL 523.585106 22.318125 \nz\n\" style=\"fill:#ffffff;\"/>\n   </g>\n   <g clip-path=\"url(#p7561b0b70b)\">\n    <image height=\"72\" id=\"imagea55698c1e5\" transform=\"scale(1 -1)translate(0 -72)\" width=\"72\" x=\"523.585106\" xlink:href=\"data:image/png;base64,\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\" y=\"-21.552168\"/>\n   </g>\n   <g id=\"patch_33\">\n    <path d=\"M 523.585106 93.552168 \nL 523.585106 22.318125 \n\" style=\"fill:none;stroke:#000000;stroke-linecap:square;stroke-linejoin:miter;stroke-width:0.8;\"/>\n   </g>\n   <g id=\"patch_34\">\n    <path d=\"M 594.819149 93.552168 \nL 594.819149 22.318125 \n\" style=\"fill:none;stroke:#000000;stroke-linecap:square;stroke-linejoin:miter;stroke-width:0.8;\"/>\n   </g>\n   <g id=\"patch_35\">\n    <path d=\"M 523.585106 93.552168 \nL 594.819149 93.552168 \n\" style=\"fill:none;stroke:#000000;stroke-linecap:square;stroke-linejoin:miter;stroke-width:0.8;\"/>\n   </g>\n   <g id=\"patch_36\">\n    <path d=\"M 523.585106 22.318125 \nL 594.819149 22.318125 \n\" style=\"fill:none;stroke:#000000;stroke-linecap:square;stroke-linejoin:miter;stroke-width:0.8;\"/>\n   </g>\n   <g id=\"text_7\">\n    <!-- coat -->\n    <defs>\n     <path d=\"M 48.78125 52.59375 \nL 48.78125 44.1875 \nQ 44.96875 46.296875 41.140625 47.34375 \nQ 37.3125 48.390625 33.40625 48.390625 \nQ 24.65625 48.390625 19.8125 42.84375 \nQ 14.984375 37.3125 14.984375 27.296875 \nQ 14.984375 17.28125 19.8125 11.734375 \nQ 24.65625 6.203125 33.40625 6.203125 \nQ 37.3125 6.203125 41.140625 7.25 \nQ 44.96875 8.296875 48.78125 10.40625 \nL 48.78125 2.09375 \nQ 45.015625 0.34375 40.984375 -0.53125 \nQ 36.96875 -1.421875 32.421875 -1.421875 \nQ 20.0625 -1.421875 12.78125 6.34375 \nQ 5.515625 14.109375 5.515625 27.296875 \nQ 5.515625 40.671875 12.859375 48.328125 \nQ 20.21875 56 33.015625 56 \nQ 37.15625 56 41.109375 55.140625 \nQ 45.0625 54.296875 48.78125 52.59375 \nz\n\" id=\"DejaVuSans-99\"/>\n    </defs>\n    <g transform=\"translate(546.202753 16.318125)scale(0.12 -0.12)\">\n     <use xlink:href=\"#DejaVuSans-99\"/>\n     <use x=\"54.980469\" xlink:href=\"#DejaVuSans-111\"/>\n     <use x=\"116.162109\" xlink:href=\"#DejaVuSans-97\"/>\n     <use x=\"177.441406\" xlink:href=\"#DejaVuSans-116\"/>\n    </g>\n   </g>\n  </g>\n  <g id=\"axes_8\">\n   <g id=\"patch_37\">\n    <path d=\"M 609.065957 93.552168 \nL 680.3 93.552168 \nL 680.3 22.318125 \nL 609.065957 22.318125 \nz\n\" style=\"fill:#ffffff;\"/>\n   </g>\n   <g clip-path=\"url(#p4b045abb96)\">\n    <image height=\"72\" id=\"imageedcf430ebe\" transform=\"scale(1 -1)translate(0 -72)\" width=\"72\" x=\"609.065957\" xlink:href=\"data:image/png;base64,\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\" y=\"-21.552168\"/>\n   </g>\n   <g id=\"patch_38\">\n    <path d=\"M 609.065957 93.552168 \nL 609.065957 22.318125 \n\" style=\"fill:none;stroke:#000000;stroke-linecap:square;stroke-linejoin:miter;stroke-width:0.8;\"/>\n   </g>\n   <g id=\"patch_39\">\n    <path d=\"M 680.3 93.552168 \nL 680.3 22.318125 \n\" style=\"fill:none;stroke:#000000;stroke-linecap:square;stroke-linejoin:miter;stroke-width:0.8;\"/>\n   </g>\n   <g id=\"patch_40\">\n    <path d=\"M 609.065957 93.552168 \nL 680.3 93.552168 \n\" style=\"fill:none;stroke:#000000;stroke-linecap:square;stroke-linejoin:miter;stroke-width:0.8;\"/>\n   </g>\n   <g id=\"patch_41\">\n    <path d=\"M 609.065957 22.318125 \nL 680.3 22.318125 \n\" style=\"fill:none;stroke:#000000;stroke-linecap:square;stroke-linejoin:miter;stroke-width:0.8;\"/>\n   </g>\n   <g id=\"text_8\">\n    <!-- shirt -->\n    <g transform=\"translate(631.269229 16.318125)scale(0.12 -0.12)\">\n     <use xlink:href=\"#DejaVuSans-115\"/>\n     <use x=\"52.099609\" xlink:href=\"#DejaVuSans-104\"/>\n     <use x=\"115.478516\" xlink:href=\"#DejaVuSans-105\"/>\n     <use x=\"143.261719\" xlink:href=\"#DejaVuSans-114\"/>\n     <use x=\"184.375\" xlink:href=\"#DejaVuSans-116\"/>\n    </g>\n   </g>\n  </g>\n </g>\n <defs>\n  <clipPath id=\"pa5e40699d3\">\n   <rect height=\"71.234043\" width=\"71.234043\" x=\"10.7\" y=\"22.318125\"/>\n  </clipPath>\n  <clipPath id=\"pfa2ada7835\">\n   <rect height=\"71.234043\" width=\"71.234043\" x=\"96.180851\" y=\"22.318125\"/>\n  </clipPath>\n  <clipPath id=\"p6901b966c1\">\n   <rect height=\"71.234043\" width=\"71.234043\" x=\"181.661702\" y=\"22.318125\"/>\n  </clipPath>\n  <clipPath id=\"p74924cdac7\">\n   <rect height=\"71.234043\" width=\"71.234043\" x=\"267.142553\" y=\"22.318125\"/>\n  </clipPath>\n  <clipPath id=\"p8b1b03127a\">\n   <rect height=\"71.234043\" width=\"71.234043\" x=\"352.623404\" y=\"22.318125\"/>\n  </clipPath>\n  <clipPath id=\"p3076c6e8ff\">\n   <rect height=\"71.234043\" width=\"71.234043\" x=\"438.104255\" y=\"22.318125\"/>\n  </clipPath>\n  <clipPath id=\"p7561b0b70b\">\n   <rect height=\"71.234043\" width=\"71.234043\" x=\"523.585106\" y=\"22.318125\"/>\n  </clipPath>\n  <clipPath id=\"p4b045abb96\">\n   <rect height=\"71.234043\" width=\"71.234043\" x=\"609.065957\" y=\"22.318125\"/>\n  </clipPath>\n </defs>\n</svg>\n"
          },
          "metadata": {
            "needs_background": "light"
          }
        }
      ]
    },
    {
      "cell_type": "code",
      "source": [
        "def net_fn(num_inputs, num_hiddens_1, num_hiddens_2, num_outputs, lr, sigma):\n",
        "    W1 = nn.Parameter(torch.randn(num_inputs, num_hiddens_1) * sigma)\n",
        "    b1 = nn.Parameter(torch.zeros(num_hiddens_1))\n",
        "    W2 = nn.Parameter(torch.randn(num_hiddens_1, num_hiddens_2) * sigma)\n",
        "    b2 = nn.Parameter(torch.zeros(num_hiddens_2))\n",
        "    W3 = nn.Parameter(torch.randn(num_hiddens_2, num_outputs) * sigma)\n",
        "    b3 = nn.Parameter(torch.zeros(num_outputs))\n",
        "    \n",
        "    model = nn.Sequential(nn.Flatten(), nn.LazyLinear(num_hiddens_1), nn.ReLU(), nn.LazyLinear(num_hiddens_2), nn.ReLU(),nn.LazyLinear(num_outputs))\n",
        "\n",
        "    return model"
      ],
      "metadata": {
        "id": "AN_c6vceQk_0"
      },
      "execution_count": 13,
      "outputs": []
    },
    {
      "cell_type": "code",
      "source": [
        "def train(net, train_iter, test_iter, num_epochs, loss, trainer):\n",
        "    animator = d2l.Animator(xlabel='epoch', xlim=[0, num_epochs],\n",
        "                            legend=['train loss', 'train acc', 'test acc'])\n",
        "\n",
        "    for epoch in range(num_epochs):\n",
        "        metric = d2l.Accumulator(3)  # train_loss, train_acc, num_examples\n",
        "        for i, (X, y) in enumerate(train_iter):\n",
        "            net.train()\n",
        "            trainer.zero_grad()\n",
        "            y_hat = net(X)\n",
        "            l = loss(y_hat, y)\n",
        "            l.backward()\n",
        "            trainer.step()\n",
        "            with torch.no_grad():\n",
        "                metric.add(l * X.shape[0], d2l.accuracy(y_hat, y), X.shape[0])\n",
        "            train_loss = metric[0] / metric[2]\n",
        "            train_acc = metric[1] / metric[2]\n",
        "            if (i + 1) % 50 == 0:\n",
        "                animator.add(epoch + i / len(train_iter),\n",
        "                             (train_loss, train_acc, None))\n",
        "\n",
        "        test_acc = d2l.evaluate_accuracy_gpu(net, test_iter)\n",
        "        animator.add(epoch+1, (None, None, test_acc))\n",
        "\n",
        "    print(f'train loss {train_loss:.3f}, train acc {train_acc:.3f}, '\n",
        "          f'test acc {test_acc:.3f}')"
      ],
      "metadata": {
        "id": "S8x_tXKpQlMG"
      },
      "execution_count": 14,
      "outputs": []
    },
    {
      "cell_type": "code",
      "source": [
        "loss = nn.CrossEntropyLoss()\n",
        "batch_size = 64\n",
        "lr=0.1\n",
        "max_epochs=20\n",
        "net = net_fn(num_inputs=1024, num_outputs=10, num_hiddens_1=256, num_hiddens_2=128, lr=lr, sigma=0.01)\n",
        "train_iter, test_iter = d2l.load_data_fashion_mnist(batch_size=batch_size)\n",
        "trainer = torch.optim.SGD(net.parameters(), lr=lr)\n",
        "train(net, train_iter, test_iter, max_epochs, loss, trainer)"
      ],
      "metadata": {
        "colab": {
          "base_uri": "https://localhost:8080/",
          "height": 280
        },
        "id": "g-joIFdoZ0KZ",
        "outputId": "d51fab6f-7b3c-4453-dee5-66e30ae9f130"
      },
      "execution_count": 15,
      "outputs": [
        {
          "output_type": "stream",
          "name": "stdout",
          "text": [
            "train loss 0.202, train acc 0.924, test acc 0.889\n"
          ]
        },
        {
          "output_type": "display_data",
          "data": {
            "text/plain": [
              "<Figure size 252x180 with 1 Axes>"
            ],
            "image/svg+xml": "<?xml version=\"1.0\" encoding=\"utf-8\" standalone=\"no\"?>\n<!DOCTYPE svg PUBLIC \"-//W3C//DTD SVG 1.1//EN\"\n  \"http://www.w3.org/Graphics/SVG/1.1/DTD/svg11.dtd\">\n<!-- Created with matplotlib (https://matplotlib.org/) -->\n<svg height=\"180.65625pt\" version=\"1.1\" viewBox=\"0 0 238.965625 180.65625\" width=\"238.965625pt\" xmlns=\"http://www.w3.org/2000/svg\" xmlns:xlink=\"http://www.w3.org/1999/xlink\">\n <defs>\n  <style type=\"text/css\">\n*{stroke-linecap:butt;stroke-linejoin:round;}\n  </style>\n </defs>\n <g id=\"figure_1\">\n  <g id=\"patch_1\">\n   <path d=\"M 0 180.65625 \nL 238.965625 180.65625 \nL 238.965625 0 \nL 0 0 \nz\n\" style=\"fill:none;\"/>\n  </g>\n  <g id=\"axes_1\">\n   <g id=\"patch_2\">\n    <path d=\"M 30.103125 143.1 \nL 225.403125 143.1 \nL 225.403125 7.2 \nL 30.103125 7.2 \nz\n\" style=\"fill:#ffffff;\"/>\n   </g>\n   <g id=\"matplotlib.axis_1\">\n    <g id=\"xtick_1\">\n     <g id=\"line2d_1\">\n      <path clip-path=\"url(#p6108d40420)\" d=\"M 30.103125 143.1 \nL 30.103125 7.2 \n\" style=\"fill:none;stroke:#b0b0b0;stroke-linecap:square;stroke-width:0.8;\"/>\n     </g>\n     <g id=\"line2d_2\">\n      <defs>\n       <path d=\"M 0 0 \nL 0 3.5 \n\" id=\"m5731b854db\" style=\"stroke:#000000;stroke-width:0.8;\"/>\n      </defs>\n      <g>\n       <use style=\"stroke:#000000;stroke-width:0.8;\" x=\"30.103125\" xlink:href=\"#m5731b854db\" y=\"143.1\"/>\n      </g>\n     </g>\n     <g id=\"text_1\">\n      <!-- 0 -->\n      <defs>\n       <path d=\"M 31.78125 66.40625 \nQ 24.171875 66.40625 20.328125 58.90625 \nQ 16.5 51.421875 16.5 36.375 \nQ 16.5 21.390625 20.328125 13.890625 \nQ 24.171875 6.390625 31.78125 6.390625 \nQ 39.453125 6.390625 43.28125 13.890625 \nQ 47.125 21.390625 47.125 36.375 \nQ 47.125 51.421875 43.28125 58.90625 \nQ 39.453125 66.40625 31.78125 66.40625 \nz\nM 31.78125 74.21875 \nQ 44.046875 74.21875 50.515625 64.515625 \nQ 56.984375 54.828125 56.984375 36.375 \nQ 56.984375 17.96875 50.515625 8.265625 \nQ 44.046875 -1.421875 31.78125 -1.421875 \nQ 19.53125 -1.421875 13.0625 8.265625 \nQ 6.59375 17.96875 6.59375 36.375 \nQ 6.59375 54.828125 13.0625 64.515625 \nQ 19.53125 74.21875 31.78125 74.21875 \nz\n\" id=\"DejaVuSans-48\"/>\n      </defs>\n      <g transform=\"translate(26.921875 157.698438)scale(0.1 -0.1)\">\n       <use xlink:href=\"#DejaVuSans-48\"/>\n      </g>\n     </g>\n    </g>\n    <g id=\"xtick_2\">\n     <g id=\"line2d_3\">\n      <path clip-path=\"url(#p6108d40420)\" d=\"M 78.928125 143.1 \nL 78.928125 7.2 \n\" style=\"fill:none;stroke:#b0b0b0;stroke-linecap:square;stroke-width:0.8;\"/>\n     </g>\n     <g id=\"line2d_4\">\n      <g>\n       <use style=\"stroke:#000000;stroke-width:0.8;\" x=\"78.928125\" xlink:href=\"#m5731b854db\" y=\"143.1\"/>\n      </g>\n     </g>\n     <g id=\"text_2\">\n      <!-- 5 -->\n      <defs>\n       <path d=\"M 10.796875 72.90625 \nL 49.515625 72.90625 \nL 49.515625 64.59375 \nL 19.828125 64.59375 \nL 19.828125 46.734375 \nQ 21.96875 47.46875 24.109375 47.828125 \nQ 26.265625 48.1875 28.421875 48.1875 \nQ 40.625 48.1875 47.75 41.5 \nQ 54.890625 34.8125 54.890625 23.390625 \nQ 54.890625 11.625 47.5625 5.09375 \nQ 40.234375 -1.421875 26.90625 -1.421875 \nQ 22.3125 -1.421875 17.546875 -0.640625 \nQ 12.796875 0.140625 7.71875 1.703125 \nL 7.71875 11.625 \nQ 12.109375 9.234375 16.796875 8.0625 \nQ 21.484375 6.890625 26.703125 6.890625 \nQ 35.15625 6.890625 40.078125 11.328125 \nQ 45.015625 15.765625 45.015625 23.390625 \nQ 45.015625 31 40.078125 35.4375 \nQ 35.15625 39.890625 26.703125 39.890625 \nQ 22.75 39.890625 18.8125 39.015625 \nQ 14.890625 38.140625 10.796875 36.28125 \nz\n\" id=\"DejaVuSans-53\"/>\n      </defs>\n      <g transform=\"translate(75.746875 157.698438)scale(0.1 -0.1)\">\n       <use xlink:href=\"#DejaVuSans-53\"/>\n      </g>\n     </g>\n    </g>\n    <g id=\"xtick_3\">\n     <g id=\"line2d_5\">\n      <path clip-path=\"url(#p6108d40420)\" d=\"M 127.753125 143.1 \nL 127.753125 7.2 \n\" style=\"fill:none;stroke:#b0b0b0;stroke-linecap:square;stroke-width:0.8;\"/>\n     </g>\n     <g id=\"line2d_6\">\n      <g>\n       <use style=\"stroke:#000000;stroke-width:0.8;\" x=\"127.753125\" xlink:href=\"#m5731b854db\" y=\"143.1\"/>\n      </g>\n     </g>\n     <g id=\"text_3\">\n      <!-- 10 -->\n      <defs>\n       <path d=\"M 12.40625 8.296875 \nL 28.515625 8.296875 \nL 28.515625 63.921875 \nL 10.984375 60.40625 \nL 10.984375 69.390625 \nL 28.421875 72.90625 \nL 38.28125 72.90625 \nL 38.28125 8.296875 \nL 54.390625 8.296875 \nL 54.390625 0 \nL 12.40625 0 \nz\n\" id=\"DejaVuSans-49\"/>\n      </defs>\n      <g transform=\"translate(121.390625 157.698438)scale(0.1 -0.1)\">\n       <use xlink:href=\"#DejaVuSans-49\"/>\n       <use x=\"63.623047\" xlink:href=\"#DejaVuSans-48\"/>\n      </g>\n     </g>\n    </g>\n    <g id=\"xtick_4\">\n     <g id=\"line2d_7\">\n      <path clip-path=\"url(#p6108d40420)\" d=\"M 176.578125 143.1 \nL 176.578125 7.2 \n\" style=\"fill:none;stroke:#b0b0b0;stroke-linecap:square;stroke-width:0.8;\"/>\n     </g>\n     <g id=\"line2d_8\">\n      <g>\n       <use style=\"stroke:#000000;stroke-width:0.8;\" x=\"176.578125\" xlink:href=\"#m5731b854db\" y=\"143.1\"/>\n      </g>\n     </g>\n     <g id=\"text_4\">\n      <!-- 15 -->\n      <g transform=\"translate(170.215625 157.698438)scale(0.1 -0.1)\">\n       <use xlink:href=\"#DejaVuSans-49\"/>\n       <use x=\"63.623047\" xlink:href=\"#DejaVuSans-53\"/>\n      </g>\n     </g>\n    </g>\n    <g id=\"xtick_5\">\n     <g id=\"line2d_9\">\n      <path clip-path=\"url(#p6108d40420)\" d=\"M 225.403125 143.1 \nL 225.403125 7.2 \n\" style=\"fill:none;stroke:#b0b0b0;stroke-linecap:square;stroke-width:0.8;\"/>\n     </g>\n     <g id=\"line2d_10\">\n      <g>\n       <use style=\"stroke:#000000;stroke-width:0.8;\" x=\"225.403125\" xlink:href=\"#m5731b854db\" y=\"143.1\"/>\n      </g>\n     </g>\n     <g id=\"text_5\">\n      <!-- 20 -->\n      <defs>\n       <path d=\"M 19.1875 8.296875 \nL 53.609375 8.296875 \nL 53.609375 0 \nL 7.328125 0 \nL 7.328125 8.296875 \nQ 12.9375 14.109375 22.625 23.890625 \nQ 32.328125 33.6875 34.8125 36.53125 \nQ 39.546875 41.84375 41.421875 45.53125 \nQ 43.3125 49.21875 43.3125 52.78125 \nQ 43.3125 58.59375 39.234375 62.25 \nQ 35.15625 65.921875 28.609375 65.921875 \nQ 23.96875 65.921875 18.8125 64.3125 \nQ 13.671875 62.703125 7.8125 59.421875 \nL 7.8125 69.390625 \nQ 13.765625 71.78125 18.9375 73 \nQ 24.125 74.21875 28.421875 74.21875 \nQ 39.75 74.21875 46.484375 68.546875 \nQ 53.21875 62.890625 53.21875 53.421875 \nQ 53.21875 48.921875 51.53125 44.890625 \nQ 49.859375 40.875 45.40625 35.40625 \nQ 44.1875 33.984375 37.640625 27.21875 \nQ 31.109375 20.453125 19.1875 8.296875 \nz\n\" id=\"DejaVuSans-50\"/>\n      </defs>\n      <g transform=\"translate(219.040625 157.698438)scale(0.1 -0.1)\">\n       <use xlink:href=\"#DejaVuSans-50\"/>\n       <use x=\"63.623047\" xlink:href=\"#DejaVuSans-48\"/>\n      </g>\n     </g>\n    </g>\n    <g id=\"text_6\">\n     <!-- epoch -->\n     <defs>\n      <path d=\"M 56.203125 29.59375 \nL 56.203125 25.203125 \nL 14.890625 25.203125 \nQ 15.484375 15.921875 20.484375 11.0625 \nQ 25.484375 6.203125 34.421875 6.203125 \nQ 39.59375 6.203125 44.453125 7.46875 \nQ 49.3125 8.734375 54.109375 11.28125 \nL 54.109375 2.78125 \nQ 49.265625 0.734375 44.1875 -0.34375 \nQ 39.109375 -1.421875 33.890625 -1.421875 \nQ 20.796875 -1.421875 13.15625 6.1875 \nQ 5.515625 13.8125 5.515625 26.8125 \nQ 5.515625 40.234375 12.765625 48.109375 \nQ 20.015625 56 32.328125 56 \nQ 43.359375 56 49.78125 48.890625 \nQ 56.203125 41.796875 56.203125 29.59375 \nz\nM 47.21875 32.234375 \nQ 47.125 39.59375 43.09375 43.984375 \nQ 39.0625 48.390625 32.421875 48.390625 \nQ 24.90625 48.390625 20.390625 44.140625 \nQ 15.875 39.890625 15.1875 32.171875 \nz\n\" id=\"DejaVuSans-101\"/>\n      <path d=\"M 18.109375 8.203125 \nL 18.109375 -20.796875 \nL 9.078125 -20.796875 \nL 9.078125 54.6875 \nL 18.109375 54.6875 \nL 18.109375 46.390625 \nQ 20.953125 51.265625 25.265625 53.625 \nQ 29.59375 56 35.59375 56 \nQ 45.5625 56 51.78125 48.09375 \nQ 58.015625 40.1875 58.015625 27.296875 \nQ 58.015625 14.40625 51.78125 6.484375 \nQ 45.5625 -1.421875 35.59375 -1.421875 \nQ 29.59375 -1.421875 25.265625 0.953125 \nQ 20.953125 3.328125 18.109375 8.203125 \nz\nM 48.6875 27.296875 \nQ 48.6875 37.203125 44.609375 42.84375 \nQ 40.53125 48.484375 33.40625 48.484375 \nQ 26.265625 48.484375 22.1875 42.84375 \nQ 18.109375 37.203125 18.109375 27.296875 \nQ 18.109375 17.390625 22.1875 11.75 \nQ 26.265625 6.109375 33.40625 6.109375 \nQ 40.53125 6.109375 44.609375 11.75 \nQ 48.6875 17.390625 48.6875 27.296875 \nz\n\" id=\"DejaVuSans-112\"/>\n      <path d=\"M 30.609375 48.390625 \nQ 23.390625 48.390625 19.1875 42.75 \nQ 14.984375 37.109375 14.984375 27.296875 \nQ 14.984375 17.484375 19.15625 11.84375 \nQ 23.34375 6.203125 30.609375 6.203125 \nQ 37.796875 6.203125 41.984375 11.859375 \nQ 46.1875 17.53125 46.1875 27.296875 \nQ 46.1875 37.015625 41.984375 42.703125 \nQ 37.796875 48.390625 30.609375 48.390625 \nz\nM 30.609375 56 \nQ 42.328125 56 49.015625 48.375 \nQ 55.71875 40.765625 55.71875 27.296875 \nQ 55.71875 13.875 49.015625 6.21875 \nQ 42.328125 -1.421875 30.609375 -1.421875 \nQ 18.84375 -1.421875 12.171875 6.21875 \nQ 5.515625 13.875 5.515625 27.296875 \nQ 5.515625 40.765625 12.171875 48.375 \nQ 18.84375 56 30.609375 56 \nz\n\" id=\"DejaVuSans-111\"/>\n      <path d=\"M 48.78125 52.59375 \nL 48.78125 44.1875 \nQ 44.96875 46.296875 41.140625 47.34375 \nQ 37.3125 48.390625 33.40625 48.390625 \nQ 24.65625 48.390625 19.8125 42.84375 \nQ 14.984375 37.3125 14.984375 27.296875 \nQ 14.984375 17.28125 19.8125 11.734375 \nQ 24.65625 6.203125 33.40625 6.203125 \nQ 37.3125 6.203125 41.140625 7.25 \nQ 44.96875 8.296875 48.78125 10.40625 \nL 48.78125 2.09375 \nQ 45.015625 0.34375 40.984375 -0.53125 \nQ 36.96875 -1.421875 32.421875 -1.421875 \nQ 20.0625 -1.421875 12.78125 6.34375 \nQ 5.515625 14.109375 5.515625 27.296875 \nQ 5.515625 40.671875 12.859375 48.328125 \nQ 20.21875 56 33.015625 56 \nQ 37.15625 56 41.109375 55.140625 \nQ 45.0625 54.296875 48.78125 52.59375 \nz\n\" id=\"DejaVuSans-99\"/>\n      <path d=\"M 54.890625 33.015625 \nL 54.890625 0 \nL 45.90625 0 \nL 45.90625 32.71875 \nQ 45.90625 40.484375 42.875 44.328125 \nQ 39.84375 48.1875 33.796875 48.1875 \nQ 26.515625 48.1875 22.3125 43.546875 \nQ 18.109375 38.921875 18.109375 30.90625 \nL 18.109375 0 \nL 9.078125 0 \nL 9.078125 75.984375 \nL 18.109375 75.984375 \nL 18.109375 46.1875 \nQ 21.34375 51.125 25.703125 53.5625 \nQ 30.078125 56 35.796875 56 \nQ 45.21875 56 50.046875 50.171875 \nQ 54.890625 44.34375 54.890625 33.015625 \nz\n\" id=\"DejaVuSans-104\"/>\n     </defs>\n     <g transform=\"translate(112.525 171.376563)scale(0.1 -0.1)\">\n      <use xlink:href=\"#DejaVuSans-101\"/>\n      <use x=\"61.523438\" xlink:href=\"#DejaVuSans-112\"/>\n      <use x=\"125\" xlink:href=\"#DejaVuSans-111\"/>\n      <use x=\"186.181641\" xlink:href=\"#DejaVuSans-99\"/>\n      <use x=\"241.162109\" xlink:href=\"#DejaVuSans-104\"/>\n     </g>\n    </g>\n   </g>\n   <g id=\"matplotlib.axis_2\">\n    <g id=\"ytick_1\">\n     <g id=\"line2d_11\">\n      <path clip-path=\"url(#p6108d40420)\" d=\"M 30.103125 113.117753 \nL 225.403125 113.117753 \n\" style=\"fill:none;stroke:#b0b0b0;stroke-linecap:square;stroke-width:0.8;\"/>\n     </g>\n     <g id=\"line2d_12\">\n      <defs>\n       <path d=\"M 0 0 \nL -3.5 0 \n\" id=\"m7e4f686f81\" style=\"stroke:#000000;stroke-width:0.8;\"/>\n      </defs>\n      <g>\n       <use style=\"stroke:#000000;stroke-width:0.8;\" x=\"30.103125\" xlink:href=\"#m7e4f686f81\" y=\"113.117753\"/>\n      </g>\n     </g>\n     <g id=\"text_7\">\n      <!-- 0.5 -->\n      <defs>\n       <path d=\"M 10.6875 12.40625 \nL 21 12.40625 \nL 21 0 \nL 10.6875 0 \nz\n\" id=\"DejaVuSans-46\"/>\n      </defs>\n      <g transform=\"translate(7.2 116.916972)scale(0.1 -0.1)\">\n       <use xlink:href=\"#DejaVuSans-48\"/>\n       <use x=\"63.623047\" xlink:href=\"#DejaVuSans-46\"/>\n       <use x=\"95.410156\" xlink:href=\"#DejaVuSans-53\"/>\n      </g>\n     </g>\n    </g>\n    <g id=\"ytick_2\">\n     <g id=\"line2d_13\">\n      <path clip-path=\"url(#p6108d40420)\" d=\"M 30.103125 75.725928 \nL 225.403125 75.725928 \n\" style=\"fill:none;stroke:#b0b0b0;stroke-linecap:square;stroke-width:0.8;\"/>\n     </g>\n     <g id=\"line2d_14\">\n      <g>\n       <use style=\"stroke:#000000;stroke-width:0.8;\" x=\"30.103125\" xlink:href=\"#m7e4f686f81\" y=\"75.725928\"/>\n      </g>\n     </g>\n     <g id=\"text_8\">\n      <!-- 1.0 -->\n      <g transform=\"translate(7.2 79.525146)scale(0.1 -0.1)\">\n       <use xlink:href=\"#DejaVuSans-49\"/>\n       <use x=\"63.623047\" xlink:href=\"#DejaVuSans-46\"/>\n       <use x=\"95.410156\" xlink:href=\"#DejaVuSans-48\"/>\n      </g>\n     </g>\n    </g>\n    <g id=\"ytick_3\">\n     <g id=\"line2d_15\">\n      <path clip-path=\"url(#p6108d40420)\" d=\"M 30.103125 38.334102 \nL 225.403125 38.334102 \n\" style=\"fill:none;stroke:#b0b0b0;stroke-linecap:square;stroke-width:0.8;\"/>\n     </g>\n     <g id=\"line2d_16\">\n      <g>\n       <use style=\"stroke:#000000;stroke-width:0.8;\" x=\"30.103125\" xlink:href=\"#m7e4f686f81\" y=\"38.334102\"/>\n      </g>\n     </g>\n     <g id=\"text_9\">\n      <!-- 1.5 -->\n      <g transform=\"translate(7.2 42.133321)scale(0.1 -0.1)\">\n       <use xlink:href=\"#DejaVuSans-49\"/>\n       <use x=\"63.623047\" xlink:href=\"#DejaVuSans-46\"/>\n       <use x=\"95.410156\" xlink:href=\"#DejaVuSans-53\"/>\n      </g>\n     </g>\n    </g>\n   </g>\n   <g id=\"line2d_17\">\n    <path clip-path=\"url(#p6108d40420)\" d=\"M 30.613237 13.377273 \nL 31.133759 43.382572 \nL 31.654282 57.377128 \nL 32.174804 66.016137 \nL 32.695326 72.38528 \nL 33.215849 77.18311 \nL 34.256894 83.887447 \nL 35.297938 88.585516 \nL 36.338983 91.95176 \nL 37.380028 94.583652 \nL 38.941595 97.811378 \nL 39.462118 98.742003 \nL 40.378237 114.658673 \nL 40.898759 114.033057 \nL 41.419282 113.960638 \nL 44.021894 116.126356 \nL 44.542416 116.366905 \nL 45.062938 116.369308 \nL 45.583461 116.710624 \nL 49.227118 117.543543 \nL 50.143237 120.533153 \nL 51.184282 120.110956 \nL 51.704804 120.719022 \nL 52.745849 121.3933 \nL 53.266371 121.190122 \nL 53.786894 121.244161 \nL 54.307416 121.170856 \nL 55.868983 121.612733 \nL 56.389506 121.650208 \nL 57.43055 121.571922 \nL 58.992118 121.669706 \nL 59.908237 125.124911 \nL 60.428759 124.193631 \nL 60.949282 123.60958 \nL 61.469804 123.393223 \nL 61.990326 123.784443 \nL 62.510849 123.630429 \nL 63.031371 123.641923 \nL 63.551894 123.818304 \nL 64.072416 123.630972 \nL 65.633983 123.93149 \nL 68.757118 123.918678 \nL 69.673237 124.997821 \nL 70.714282 125.142265 \nL 71.234804 124.905056 \nL 71.755326 124.901556 \nL 72.796371 125.14226 \nL 73.316894 124.869965 \nL 75.398983 125.275971 \nL 75.919506 125.27858 \nL 76.440028 125.459203 \nL 77.481073 125.561058 \nL 78.522118 125.497588 \nL 79.438237 126.097128 \nL 79.958759 126.880879 \nL 80.479282 126.588901 \nL 80.999804 126.524297 \nL 81.520326 126.683192 \nL 82.561371 126.633623 \nL 83.081894 126.828634 \nL 84.122938 126.721588 \nL 85.163983 126.617884 \nL 88.287118 126.702029 \nL 89.203237 128.06909 \nL 89.723759 127.350461 \nL 91.285326 127.642972 \nL 91.805849 127.448174 \nL 92.846894 127.682704 \nL 93.367416 127.966588 \nL 93.887938 127.83439 \nL 94.408461 127.852341 \nL 94.928983 127.706263 \nL 95.449506 127.788884 \nL 96.49055 127.58246 \nL 97.011073 127.582507 \nL 98.052118 127.842449 \nL 98.968237 129.109923 \nL 99.488759 128.116775 \nL 101.570849 128.904663 \nL 102.091371 128.756871 \nL 104.173461 128.932557 \nL 106.25555 128.748276 \nL 107.296595 128.876866 \nL 107.817118 128.835746 \nL 108.733237 128.891323 \nL 109.253759 129.231048 \nL 109.774282 129.223281 \nL 110.294804 129.043126 \nL 110.815326 129.037089 \nL 111.856371 129.377085 \nL 115.500028 129.462743 \nL 116.02055 129.596978 \nL 117.061595 129.575464 \nL 117.582118 129.749076 \nL 118.498237 129.706801 \nL 119.539282 130.443578 \nL 120.580326 130.150897 \nL 121.621371 130.285573 \nL 122.141894 130.443937 \nL 125.265028 130.397901 \nL 125.78555 130.29566 \nL 126.826595 130.298958 \nL 127.347118 130.310367 \nL 128.263237 131.783278 \nL 128.783759 131.592096 \nL 129.304282 131.954872 \nL 130.345326 131.292569 \nL 130.865849 131.383874 \nL 133.988983 130.964143 \nL 137.112118 130.969464 \nL 138.028237 132.385058 \nL 138.548759 132.24912 \nL 139.069282 132.547298 \nL 139.589804 132.191944 \nL 140.110326 132.058464 \nL 141.671894 132.003733 \nL 143.753983 131.616121 \nL 146.877118 131.611108 \nL 147.793237 131.412301 \nL 148.834282 131.459968 \nL 149.875326 132.136721 \nL 150.395849 132.168486 \nL 150.916371 132.367885 \nL 151.436894 132.416366 \nL 151.957416 132.21869 \nL 152.477938 132.23002 \nL 153.518983 132.405284 \nL 154.039506 132.439721 \nL 155.08055 132.306353 \nL 156.642118 132.250235 \nL 157.558237 133.826398 \nL 158.078759 133.338372 \nL 158.599282 133.44202 \nL 159.119804 133.389681 \nL 159.640326 133.620633 \nL 161.722416 133.083693 \nL 166.407118 132.753315 \nL 167.323237 133.521795 \nL 167.843759 133.674783 \nL 168.884804 133.194474 \nL 169.405326 133.392042 \nL 169.925849 133.378921 \nL 170.446371 133.194318 \nL 172.007938 133.134441 \nL 174.61055 133.131031 \nL 176.172118 133.140809 \nL 177.088237 134.216999 \nL 177.608759 134.148741 \nL 178.649804 134.226675 \nL 179.170326 133.973691 \nL 179.690849 134.012065 \nL 181.252416 133.6784 \nL 182.293461 133.680517 \nL 183.334506 133.515383 \nL 185.937118 133.630451 \nL 186.853237 135.524774 \nL 187.373759 134.896942 \nL 187.894282 134.875329 \nL 188.414804 134.677068 \nL 189.455849 134.957361 \nL 190.496894 134.738638 \nL 191.017416 134.464338 \nL 191.537938 134.54167 \nL 193.620028 134.2246 \nL 195.702118 134.131963 \nL 196.618237 135.62072 \nL 197.659282 135.616452 \nL 198.179804 135.201072 \nL 198.700326 135.290429 \nL 199.741371 134.885579 \nL 201.302938 134.745062 \nL 202.343983 134.690485 \nL 205.467118 134.592429 \nL 206.383237 135.110337 \nL 206.903759 135.668604 \nL 207.424282 135.161826 \nL 207.944804 134.89741 \nL 208.465326 135.155536 \nL 209.506371 135.172611 \nL 212.629506 135.128232 \nL 213.150028 135.02893 \nL 214.711595 135.123261 \nL 215.232118 135.030941 \nL 216.148237 136.761464 \nL 216.668759 136.922727 \nL 217.189282 136.311225 \nL 217.709804 136.343911 \nL 218.230326 135.970136 \nL 219.271371 135.840089 \nL 220.832938 135.574864 \nL 221.873983 135.450105 \nL 222.915028 135.542579 \nL 224.997118 135.410245 \nL 224.997118 135.410245 \n\" style=\"fill:none;stroke:#1f77b4;stroke-linecap:square;stroke-width:1.5;\"/>\n   </g>\n   <g id=\"line2d_18\">\n    <path clip-path=\"url(#p6108d40420)\" d=\"M 30.613237 119.544473 \nL 31.133759 112.299807 \nL 31.654282 108.498305 \nL 32.695326 103.657621 \nL 33.215849 101.99758 \nL 34.256894 99.723884 \nL 35.297938 98.025478 \nL 36.338983 96.809464 \nL 38.421073 94.969572 \nL 39.462118 94.329659 \nL 40.378237 88.813067 \nL 40.898759 89.280464 \nL 41.419282 89.249305 \nL 42.460326 88.733609 \nL 43.501371 88.445825 \nL 44.542416 88.148323 \nL 45.062938 88.137677 \nL 46.103983 87.967856 \nL 49.227118 87.721173 \nL 50.143237 86.686407 \nL 50.663759 86.709776 \nL 51.184282 86.881156 \nL 52.225326 86.480751 \nL 52.745849 86.308593 \nL 54.307416 86.426741 \nL 55.348461 86.231756 \nL 58.992118 86.20213 \nL 59.908237 84.793445 \nL 60.428759 85.260843 \nL 60.949282 85.556862 \nL 61.469804 85.704871 \nL 61.990326 85.494542 \nL 64.072416 85.582828 \nL 66.675028 85.562982 \nL 67.716073 85.555888 \nL 68.757118 85.552967 \nL 69.673237 84.910295 \nL 70.193759 85.050514 \nL 71.234804 85.015459 \nL 72.796371 84.863555 \nL 73.316894 84.986247 \nL 75.919506 84.930069 \nL 77.481073 84.800748 \nL 78.522118 84.860958 \nL 79.438237 85.050514 \nL 79.958759 84.442897 \nL 80.479282 84.590906 \nL 80.999804 84.588959 \nL 81.520326 84.461593 \nL 82.040849 84.559746 \nL 84.643461 84.540626 \nL 86.205028 84.539715 \nL 88.287118 84.519498 \nL 89.203237 84.162458 \nL 89.723759 84.255938 \nL 90.244282 84.139088 \nL 91.285326 84.279308 \nL 92.846894 84.194592 \nL 93.367416 84.084559 \nL 97.011073 84.253017 \nL 98.052118 84.178038 \nL 98.968237 83.83528 \nL 99.488759 84.080664 \nL 100.529804 83.88202 \nL 101.570849 83.745695 \nL 107.817118 83.770363 \nL 109.253759 83.461362 \nL 109.774282 83.453572 \nL 110.294804 83.595738 \nL 111.335849 83.566526 \nL 112.376894 83.519786 \nL 118.498237 83.484731 \nL 119.018759 83.227663 \nL 119.539282 83.165343 \nL 120.580326 83.386578 \nL 123.182938 83.225326 \nL 124.744506 83.216877 \nL 126.826595 83.263405 \nL 127.347118 83.232856 \nL 128.263237 82.316237 \nL 128.783759 82.690155 \nL 129.304282 82.612256 \nL 129.824804 82.777792 \nL 135.030028 83.114152 \nL 137.112118 83.047195 \nL 138.028237 82.433086 \nL 138.548759 82.479826 \nL 139.069282 82.222757 \nL 139.589804 82.473984 \nL 142.192416 82.625239 \nL 144.795028 82.756926 \nL 146.877118 82.782336 \nL 147.793237 83.180923 \nL 149.354804 82.713525 \nL 150.916371 82.489842 \nL 151.957416 82.46165 \nL 154.039506 82.389942 \nL 156.642118 82.459053 \nL 157.558237 81.825469 \nL 158.078759 82.234442 \nL 166.407118 82.36817 \nL 167.323237 81.778729 \nL 167.843759 81.778729 \nL 168.364282 82.020218 \nL 172.528461 82.275871 \nL 174.61055 82.285077 \nL 177.088237 82.246127 \nL 177.608759 82.211072 \nL 178.129282 81.950109 \nL 178.649804 81.860524 \nL 179.170326 82.007754 \nL 179.690849 81.934529 \nL 181.252416 82.074748 \nL 182.293461 82.044296 \nL 183.855028 82.112585 \nL 185.937118 82.053975 \nL 186.853237 81.381441 \nL 187.373759 81.66188 \nL 188.414804 81.743675 \nL 189.455849 81.66967 \nL 190.496894 81.696935 \nL 191.537938 81.774055 \nL 195.181595 81.829593 \nL 196.618237 81.75536 \nL 197.659282 81.389231 \nL 198.179804 81.492448 \nL 198.700326 81.456225 \nL 200.261894 81.641431 \nL 205.467118 81.789116 \nL 206.903759 80.972468 \nL 207.944804 81.457393 \nL 208.465326 81.32068 \nL 209.506371 81.358071 \nL 210.547416 81.365861 \nL 211.588461 81.368694 \nL 215.232118 81.491799 \nL 216.148237 80.867304 \nL 216.668759 80.773824 \nL 217.189282 81.085423 \nL 217.709804 81.065948 \nL 219.271371 81.274608 \nL 221.873983 81.356124 \nL 223.956073 81.375599 \nL 224.997118 81.393126 \nL 224.997118 81.393126 \n\" style=\"fill:none;stroke:#bf00bf;stroke-dasharray:5.55,2.4;stroke-dashoffset:0;stroke-width:1.5;\"/>\n   </g>\n   <g id=\"line2d_19\">\n    <path clip-path=\"url(#p6108d40420)\" d=\"M 39.868125 90.914487 \nL 49.633125 87.556701 \nL 59.398125 88.79811 \nL 69.163125 86.457382 \nL 78.928125 87.235132 \nL 88.693125 85.290757 \nL 98.458125 85.328148 \nL 108.223125 85.081362 \nL 117.988125 86.449903 \nL 127.753125 84.924317 \nL 137.518125 84.767271 \nL 147.283125 85.245886 \nL 157.048125 88.670978 \nL 166.813125 84.879447 \nL 176.578125 85.911461 \nL 186.343125 84.737358 \nL 196.108125 84.490572 \nL 205.873125 84.445701 \nL 215.638125 84.146567 \nL 225.403125 84.04187 \n\" style=\"fill:none;stroke:#008000;stroke-dasharray:9.6,2.4,1.5,2.4;stroke-dashoffset:0;stroke-width:1.5;\"/>\n   </g>\n   <g id=\"patch_3\">\n    <path d=\"M 30.103125 143.1 \nL 30.103125 7.2 \n\" style=\"fill:none;stroke:#000000;stroke-linecap:square;stroke-linejoin:miter;stroke-width:0.8;\"/>\n   </g>\n   <g id=\"patch_4\">\n    <path d=\"M 225.403125 143.1 \nL 225.403125 7.2 \n\" style=\"fill:none;stroke:#000000;stroke-linecap:square;stroke-linejoin:miter;stroke-width:0.8;\"/>\n   </g>\n   <g id=\"patch_5\">\n    <path d=\"M 30.103125 143.1 \nL 225.403125 143.1 \n\" style=\"fill:none;stroke:#000000;stroke-linecap:square;stroke-linejoin:miter;stroke-width:0.8;\"/>\n   </g>\n   <g id=\"patch_6\">\n    <path d=\"M 30.103125 7.2 \nL 225.403125 7.2 \n\" style=\"fill:none;stroke:#000000;stroke-linecap:square;stroke-linejoin:miter;stroke-width:0.8;\"/>\n   </g>\n   <g id=\"legend_1\">\n    <g id=\"patch_7\">\n     <path d=\"M 140.634375 59.234375 \nL 218.403125 59.234375 \nQ 220.403125 59.234375 220.403125 57.234375 \nL 220.403125 14.2 \nQ 220.403125 12.2 218.403125 12.2 \nL 140.634375 12.2 \nQ 138.634375 12.2 138.634375 14.2 \nL 138.634375 57.234375 \nQ 138.634375 59.234375 140.634375 59.234375 \nz\n\" style=\"fill:#ffffff;opacity:0.8;stroke:#cccccc;stroke-linejoin:miter;\"/>\n    </g>\n    <g id=\"line2d_20\">\n     <path d=\"M 142.634375 20.298438 \nL 162.634375 20.298438 \n\" style=\"fill:none;stroke:#1f77b4;stroke-linecap:square;stroke-width:1.5;\"/>\n    </g>\n    <g id=\"line2d_21\"/>\n    <g id=\"text_10\">\n     <!-- train loss -->\n     <defs>\n      <path d=\"M 18.3125 70.21875 \nL 18.3125 54.6875 \nL 36.8125 54.6875 \nL 36.8125 47.703125 \nL 18.3125 47.703125 \nL 18.3125 18.015625 \nQ 18.3125 11.328125 20.140625 9.421875 \nQ 21.96875 7.515625 27.59375 7.515625 \nL 36.8125 7.515625 \nL 36.8125 0 \nL 27.59375 0 \nQ 17.1875 0 13.234375 3.875 \nQ 9.28125 7.765625 9.28125 18.015625 \nL 9.28125 47.703125 \nL 2.6875 47.703125 \nL 2.6875 54.6875 \nL 9.28125 54.6875 \nL 9.28125 70.21875 \nz\n\" id=\"DejaVuSans-116\"/>\n      <path d=\"M 41.109375 46.296875 \nQ 39.59375 47.171875 37.8125 47.578125 \nQ 36.03125 48 33.890625 48 \nQ 26.265625 48 22.1875 43.046875 \nQ 18.109375 38.09375 18.109375 28.8125 \nL 18.109375 0 \nL 9.078125 0 \nL 9.078125 54.6875 \nL 18.109375 54.6875 \nL 18.109375 46.1875 \nQ 20.953125 51.171875 25.484375 53.578125 \nQ 30.03125 56 36.53125 56 \nQ 37.453125 56 38.578125 55.875 \nQ 39.703125 55.765625 41.0625 55.515625 \nz\n\" id=\"DejaVuSans-114\"/>\n      <path d=\"M 34.28125 27.484375 \nQ 23.390625 27.484375 19.1875 25 \nQ 14.984375 22.515625 14.984375 16.5 \nQ 14.984375 11.71875 18.140625 8.90625 \nQ 21.296875 6.109375 26.703125 6.109375 \nQ 34.1875 6.109375 38.703125 11.40625 \nQ 43.21875 16.703125 43.21875 25.484375 \nL 43.21875 27.484375 \nz\nM 52.203125 31.203125 \nL 52.203125 0 \nL 43.21875 0 \nL 43.21875 8.296875 \nQ 40.140625 3.328125 35.546875 0.953125 \nQ 30.953125 -1.421875 24.3125 -1.421875 \nQ 15.921875 -1.421875 10.953125 3.296875 \nQ 6 8.015625 6 15.921875 \nQ 6 25.140625 12.171875 29.828125 \nQ 18.359375 34.515625 30.609375 34.515625 \nL 43.21875 34.515625 \nL 43.21875 35.40625 \nQ 43.21875 41.609375 39.140625 45 \nQ 35.0625 48.390625 27.6875 48.390625 \nQ 23 48.390625 18.546875 47.265625 \nQ 14.109375 46.140625 10.015625 43.890625 \nL 10.015625 52.203125 \nQ 14.9375 54.109375 19.578125 55.046875 \nQ 24.21875 56 28.609375 56 \nQ 40.484375 56 46.34375 49.84375 \nQ 52.203125 43.703125 52.203125 31.203125 \nz\n\" id=\"DejaVuSans-97\"/>\n      <path d=\"M 9.421875 54.6875 \nL 18.40625 54.6875 \nL 18.40625 0 \nL 9.421875 0 \nz\nM 9.421875 75.984375 \nL 18.40625 75.984375 \nL 18.40625 64.59375 \nL 9.421875 64.59375 \nz\n\" id=\"DejaVuSans-105\"/>\n      <path d=\"M 54.890625 33.015625 \nL 54.890625 0 \nL 45.90625 0 \nL 45.90625 32.71875 \nQ 45.90625 40.484375 42.875 44.328125 \nQ 39.84375 48.1875 33.796875 48.1875 \nQ 26.515625 48.1875 22.3125 43.546875 \nQ 18.109375 38.921875 18.109375 30.90625 \nL 18.109375 0 \nL 9.078125 0 \nL 9.078125 54.6875 \nL 18.109375 54.6875 \nL 18.109375 46.1875 \nQ 21.34375 51.125 25.703125 53.5625 \nQ 30.078125 56 35.796875 56 \nQ 45.21875 56 50.046875 50.171875 \nQ 54.890625 44.34375 54.890625 33.015625 \nz\n\" id=\"DejaVuSans-110\"/>\n      <path id=\"DejaVuSans-32\"/>\n      <path d=\"M 9.421875 75.984375 \nL 18.40625 75.984375 \nL 18.40625 0 \nL 9.421875 0 \nz\n\" id=\"DejaVuSans-108\"/>\n      <path d=\"M 44.28125 53.078125 \nL 44.28125 44.578125 \nQ 40.484375 46.53125 36.375 47.5 \nQ 32.28125 48.484375 27.875 48.484375 \nQ 21.1875 48.484375 17.84375 46.4375 \nQ 14.5 44.390625 14.5 40.28125 \nQ 14.5 37.15625 16.890625 35.375 \nQ 19.28125 33.59375 26.515625 31.984375 \nL 29.59375 31.296875 \nQ 39.15625 29.25 43.1875 25.515625 \nQ 47.21875 21.78125 47.21875 15.09375 \nQ 47.21875 7.46875 41.1875 3.015625 \nQ 35.15625 -1.421875 24.609375 -1.421875 \nQ 20.21875 -1.421875 15.453125 -0.5625 \nQ 10.6875 0.296875 5.421875 2 \nL 5.421875 11.28125 \nQ 10.40625 8.6875 15.234375 7.390625 \nQ 20.0625 6.109375 24.8125 6.109375 \nQ 31.15625 6.109375 34.5625 8.28125 \nQ 37.984375 10.453125 37.984375 14.40625 \nQ 37.984375 18.0625 35.515625 20.015625 \nQ 33.0625 21.96875 24.703125 23.78125 \nL 21.578125 24.515625 \nQ 13.234375 26.265625 9.515625 29.90625 \nQ 5.8125 33.546875 5.8125 39.890625 \nQ 5.8125 47.609375 11.28125 51.796875 \nQ 16.75 56 26.8125 56 \nQ 31.78125 56 36.171875 55.265625 \nQ 40.578125 54.546875 44.28125 53.078125 \nz\n\" id=\"DejaVuSans-115\"/>\n     </defs>\n     <g transform=\"translate(170.634375 23.798438)scale(0.1 -0.1)\">\n      <use xlink:href=\"#DejaVuSans-116\"/>\n      <use x=\"39.208984\" xlink:href=\"#DejaVuSans-114\"/>\n      <use x=\"80.322266\" xlink:href=\"#DejaVuSans-97\"/>\n      <use x=\"141.601562\" xlink:href=\"#DejaVuSans-105\"/>\n      <use x=\"169.384766\" xlink:href=\"#DejaVuSans-110\"/>\n      <use x=\"232.763672\" xlink:href=\"#DejaVuSans-32\"/>\n      <use x=\"264.550781\" xlink:href=\"#DejaVuSans-108\"/>\n      <use x=\"292.333984\" xlink:href=\"#DejaVuSans-111\"/>\n      <use x=\"353.515625\" xlink:href=\"#DejaVuSans-115\"/>\n      <use x=\"405.615234\" xlink:href=\"#DejaVuSans-115\"/>\n     </g>\n    </g>\n    <g id=\"line2d_22\">\n     <path d=\"M 142.634375 34.976562 \nL 162.634375 34.976562 \n\" style=\"fill:none;stroke:#bf00bf;stroke-dasharray:5.55,2.4;stroke-dashoffset:0;stroke-width:1.5;\"/>\n    </g>\n    <g id=\"line2d_23\"/>\n    <g id=\"text_11\">\n     <!-- train acc -->\n     <g transform=\"translate(170.634375 38.476562)scale(0.1 -0.1)\">\n      <use xlink:href=\"#DejaVuSans-116\"/>\n      <use x=\"39.208984\" xlink:href=\"#DejaVuSans-114\"/>\n      <use x=\"80.322266\" xlink:href=\"#DejaVuSans-97\"/>\n      <use x=\"141.601562\" xlink:href=\"#DejaVuSans-105\"/>\n      <use x=\"169.384766\" xlink:href=\"#DejaVuSans-110\"/>\n      <use x=\"232.763672\" xlink:href=\"#DejaVuSans-32\"/>\n      <use x=\"264.550781\" xlink:href=\"#DejaVuSans-97\"/>\n      <use x=\"325.830078\" xlink:href=\"#DejaVuSans-99\"/>\n      <use x=\"380.810547\" xlink:href=\"#DejaVuSans-99\"/>\n     </g>\n    </g>\n    <g id=\"line2d_24\">\n     <path d=\"M 142.634375 49.654688 \nL 162.634375 49.654688 \n\" style=\"fill:none;stroke:#008000;stroke-dasharray:9.6,2.4,1.5,2.4;stroke-dashoffset:0;stroke-width:1.5;\"/>\n    </g>\n    <g id=\"line2d_25\"/>\n    <g id=\"text_12\">\n     <!-- test acc -->\n     <g transform=\"translate(170.634375 53.154688)scale(0.1 -0.1)\">\n      <use xlink:href=\"#DejaVuSans-116\"/>\n      <use x=\"39.208984\" xlink:href=\"#DejaVuSans-101\"/>\n      <use x=\"100.732422\" xlink:href=\"#DejaVuSans-115\"/>\n      <use x=\"152.832031\" xlink:href=\"#DejaVuSans-116\"/>\n      <use x=\"192.041016\" xlink:href=\"#DejaVuSans-32\"/>\n      <use x=\"223.828125\" xlink:href=\"#DejaVuSans-97\"/>\n      <use x=\"285.107422\" xlink:href=\"#DejaVuSans-99\"/>\n      <use x=\"340.087891\" xlink:href=\"#DejaVuSans-99\"/>\n     </g>\n    </g>\n   </g>\n  </g>\n </g>\n <defs>\n  <clipPath id=\"p6108d40420\">\n   <rect height=\"135.9\" width=\"195.3\" x=\"30.103125\" y=\"7.2\"/>\n  </clipPath>\n </defs>\n</svg>\n"
          },
          "metadata": {
            "needs_background": "light"
          }
        }
      ]
    }
  ]
}